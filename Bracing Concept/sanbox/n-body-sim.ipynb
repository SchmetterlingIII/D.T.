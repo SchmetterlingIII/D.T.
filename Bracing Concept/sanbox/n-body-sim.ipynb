{
 "cells": [
  {
   "cell_type": "markdown",
   "id": "0654e9fe",
   "metadata": {},
   "source": [
    "# N-Body Simulation\n",
    "https://www.youtube.com/watch?v=bD8E-hWY9Yk&t=510s\n",
    "Using this video to derive my own physics simulation. Doing a compilation of these will develop my skills in Python and lead me to making my simulations for the Bracing Concept in a much more efficient and specific way. \n"
   ]
  },
  {
   "cell_type": "markdown",
   "id": "d5e75bec",
   "metadata": {},
   "source": [
    "## Pseudocode\n",
    "*To be derived from watching the video and taking notes.*"
   ]
  },
  {
   "cell_type": "code",
   "execution_count": null,
   "id": "8877d0e0",
   "metadata": {},
   "outputs": [],
   "source": [
    "# setting constants as non-real values for testing\n",
    "\n",
    "G = 1\n",
    "M = 1\n",
    "R = 1\n",
    "\n",
    "n = 0\n",
    "N = 5\n",
    "stars = [] \n",
    "\n",
    "while n<N: \n",
    "    # want to attribute a random vector to these points\n",
    "    rt = (rand.uniform(-1,1),rand.uniform(-1,1), rand.uniform(-1,1)) # random vectors of the points\n",
    "    "
   ]
  }
 ],
 "metadata": {
  "kernelspec": {
   "display_name": "Python 3 (ipykernel)",
   "language": "python",
   "name": "python3"
  },
  "language_info": {
   "codemirror_mode": {
    "name": "ipython",
    "version": 3
   },
   "file_extension": ".py",
   "mimetype": "text/x-python",
   "name": "python",
   "nbconvert_exporter": "python",
   "pygments_lexer": "ipython3",
   "version": "3.12.1"
  }
 },
 "nbformat": 4,
 "nbformat_minor": 5
}
