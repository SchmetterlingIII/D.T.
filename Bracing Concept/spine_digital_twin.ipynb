{
 "cells": [
  {
   "cell_type": "markdown",
   "id": "de5c19ce",
   "metadata": {},
   "source": [
    "# Spine Digital Twin\n",
    "[update this readme section to actually be good]\n",
    "Below is the kinematics foundation of what I am intending to code (that I will be working on for the next two weeks):\n",
    "- I need this code to produce a model of where the IMU sensors are:\n",
    "    - positioned (with respect to the base sensor)\n",
    "    - orientated \n",
    "\n",
    "This will be the basis for the spine model as from this a spline can be determined.\n",
    "\n",
    "I hope for collaboration with orthopaedic doctors to understand what a bad posture is and data to provide this so that, eventually, I could implement a machine learning algorithm that can \"understand\" when a person does not have good posture and alert them of this."
   ]
  },
  {
   "cell_type": "markdown",
   "id": "2260caec",
   "metadata": {},
   "source": [
    "## Forward Kinematics Test\n",
    "I am currently using pseudo-data to understand how the forward kinematics will work and what problems I have to solve before the electronics assembly of the IMUs next week."
   ]
  },
  {
   "cell_type": "code",
   "execution_count": null,
   "id": "ded90deb",
   "metadata": {},
   "outputs": [],
   "source": [
    "# import modules\n",
    "from random import uniform as rd\n",
    "import matplotlib.pyplot as plt\n",
    "\n",
    "\n",
    "\n",
    "# test inputs\n",
    "fig = plt.figure()\n",
    "ax = fig.add_subplot(projection='3d')\n",
    "ax.set_xlabel('X Label')\n",
    "ax.set_ylabel('Y Label')\n",
    "ax.set_zlabel('Z Label')\n",
    "\n",
    "    # let these values be the tilt in radians (since I don't have the strength)    \n",
    "IMU_0 = [rd(0,3.14), rd(0,3.14), rd(0,3.14)]\n",
    "IMU_1 = [rd(0,3.14), rd(0,3.14), rd(0,3.14)]\n",
    "IMU_2 = [rd(0,3.14), rd(0,3.14), rd(0,3.14)]\n",
    "IMU_3 = [rd(0,3.14), rd(0,3.14), rd(0,3.14)]\n",
    "IMU_4 = [rd(0,3.14), rd(0,3.14), rd(0,3.14)]\n",
    "IMU_5 = [rd(0,3.14), rd(0,3.14), rd(0,3.14)]\n",
    "\n",
    "DIST_0_1 = rd(0, 0.4)\n",
    "DIST_1_2 = rd(0, 0.4)\n",
    "DIST_2_3 = rd(0, 0.4)\n",
    "DIST_3_4 = rd(0, 0.4)\n",
    "DIST_4_5 = rd(0, 0.4)\n",
    "\n",
    "start = [0,0,0]\n",
    "trans_0 = []\n",
    "trans_1 = []\n",
    "trans_2 = []\n",
    "for i in IMU_0:\n",
    "    n_0 = i * DIST_0_1\n",
    "    trans_0.append(n_0)\n",
    "\n",
    "for j in IMU_1:\n",
    "    n_1 = (j * DIST_1_2) + trans_0[IMU_1.index(j)]\n",
    "    trans_1.append(n_1)\n",
    "\n",
    "    \n",
    "ax.quiver(start[0], start[1], start[2], trans_0[0], trans_0[1], trans_0[2])\n",
    "ax.quiver(trans_0[0], trans_0[1], trans_0[2], trans_1[0], trans_1[1], trans_1[2])\n",
    "num = 0.6 * 2\n",
    "ax.set_xlim([-num, num])\n",
    "ax.set_ylim([-num, num])\n",
    "ax.set_zlim([-num, num])\n",
    "plt.show()\n",
    "\n",
    "\n",
    "\n",
    "# cleaning up inputs\n",
    "    # read in the imu data that is extracted from the serial\n",
    "    # sort it by naming each of the sensors putting them in lists such that:\n",
    "        # IMU_0 = [{acceleration_x}, {acceleration_y}, {acceleration_z}, {tilt_x}, {tilt_y}, {tilt_z}]\n",
    "    # input the distances between each of the sensors\n",
    "        # distance_0 (distance between IMU_0 and IMU_1 -- to be placed into a tuple) = ({adjacent/vertical distance}, {angle (on the XZ plane)})\n",
    "        # for this distance measurement, I can improve the quality of the taken measurements\n",
    "    # forward kinematics calculation (do this statically) + demonstration\n",
    "        # calculate "
   ]
  }
 ],
 "metadata": {
  "language_info": {
   "name": "python"
  }
 },
 "nbformat": 4,
 "nbformat_minor": 5
}
