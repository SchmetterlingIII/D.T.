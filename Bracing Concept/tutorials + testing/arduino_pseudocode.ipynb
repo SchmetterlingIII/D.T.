{
 "cells": [
  {
   "cell_type": "markdown",
   "id": "011e5b4f",
   "metadata": {},
   "source": [
    "# Proposed Pseudocode\n",
    "\\\\# need to organise the files in this document"
   ]
  },
  {
   "cell_type": "markdown",
   "id": "53518b94",
   "metadata": {},
   "source": [
    "## Arduino Pseudocode\n",
    "For when I do not rely on AI to write C++ code, basic pseudo understanding the basics of what I want for better interpretation (since understanding this will help when I am debugging more complicated tasks)"
   ]
  },
  {
   "cell_type": "code",
   "execution_count": null,
   "id": "c42f346e",
   "metadata": {
    "vscode": {
     "languageId": "plaintext"
    }
   },
   "outputs": [],
   "source": [
    "# open serial port\n",
    "# read serial data\n",
    "# find the channels that are sending data\n",
    "    # if channel have data  \n",
    "        # find which channels are sending data (there are 7 potential on the multiplexer)\n",
    "        # assign the channels that are sending data (e.g SCL/SDA {1, 4, 5, 7})\n",
    "        # output data back into the serial\n",
    "            # {(channel_tag), (x_acc), (y_acc), z_acc), (x_tilt), (y_tilt, (z_tilt))}\n",
    "            # {001, 1.22, -1.32, 0.04, ..., ..., ...} -> example data\n",
    "    # else\n",
    "        # wait for x seconds as a buffer period to verify that no data is being sent\n",
    "        # print \"there is no data in the serial\"\n",
    "        # exit the for/while loop\n",
    "        # close serial; end program\n"
   ]
  },
  {
   "cell_type": "markdown",
   "id": "d5089d83",
   "metadata": {},
   "source": [
    "## Dynamic Forward Kinematics (FK) Pseudocode"
   ]
  },
  {
   "cell_type": "code",
   "execution_count": null,
   "id": "b44a2cd0",
   "metadata": {
    "vscode": {
     "languageId": "plaintext"
    }
   },
   "outputs": [],
   "source": [
    "# randomly initialsed, pre-scaled vector points (as I did in the static FK)\n",
    "# set up matplotlib {is this even when it is supposed to be?}\n",
    "\n",
    "# while loop: \n",
    "    # add small random change to the vector values to simulate motion\n",
    "\n",
    "    # using FuncAnimcation (and revisiting mp animation tutorials) to display this life addition (delay of about 3 seconds to reduce risk of laptop death)"
   ]
  }
 ],
 "metadata": {
  "language_info": {
   "name": "python"
  }
 },
 "nbformat": 4,
 "nbformat_minor": 5
}
