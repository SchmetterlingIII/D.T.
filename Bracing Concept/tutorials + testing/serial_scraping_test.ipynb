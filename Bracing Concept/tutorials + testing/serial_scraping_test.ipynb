{
 "cells": [
  {
   "cell_type": "markdown",
   "id": "911c6a3a",
   "metadata": {},
   "source": [
    "# A simple test\n",
    "This will be a test to extract data from one IMU (through the Arduino) and format the data into a database to be imported to a matplotlib.\n",
    "\n",
    "Based on the previously written code (with the visualisation of the MicroBit) but having the vector points as singular points. "
   ]
  },
  {
   "cell_type": "markdown",
   "id": "8482279a",
   "metadata": {
    "vscode": {
     "languageId": "plaintext"
    }
   },
   "source": [
    "## Single IMU Test\n"
   ]
  },
  {
   "cell_type": "markdown",
   "id": "73feed3a",
   "metadata": {},
   "source": [
    "### Arduino Code\n",
    "N.B. When using AI, I will declare how it was used and write a prompt indicative to what I had used to obtain the results (as I had already understood how to implement it, just learning another language's syntax is not on my bucket list currently)"
   ]
  },
  {
   "cell_type": "code",
   "execution_count": null,
   "id": "0dec57fa",
   "metadata": {
    "vscode": {
     "languageId": "plaintext"
    }
   },
   "outputs": [],
   "source": []
  },
  {
   "cell_type": "markdown",
   "id": "b8957058",
   "metadata": {},
   "source": [
    "### Python Code\n",
    "This is what has extracted the serial data from the basic arduino code (that I actually wrote)"
   ]
  },
  {
   "cell_type": "code",
   "execution_count": null,
   "id": "d0acc725",
   "metadata": {},
   "outputs": [],
   "source": [
    "import serial.tools.list_ports\n",
    "import string\n",
    "from serial import SerialException\n",
    "import matplotlib.pyplot as plt\n",
    "from matplotlib.animation import FuncAnimation\n",
    "\n",
    "ports = serial.tools.list_ports.comports()\n",
    "serialInst = serial.Serial()\n",
    "\n",
    "portList = []\n",
    "\n",
    "for port in ports:\n",
    "    portList.append(str(port))\n",
    "    print(str(port))\n",
    "    \n",
    "val = input(\"Select port: COM\")\n",
    "\n",
    "portVar = None\n",
    "program = True\n",
    "\n",
    "\n",
    "\n",
    "\n",
    "\"\"\"# write a class for accelerometer visualisation\n",
    "# the goal currently is just to get the data updating live\n",
    "# without having an inputted time delay (i.e. at the rate of seeing the data)\n",
    "# and hoping the laptop doesn't undergo cardiac arrest\n",
    "def vector_acceleration(acceleration_list):\n",
    "    \n",
    "    # return \n",
    "    return\"\"\"\n",
    "\n",
    "fig = plt.figure()\n",
    "ax = fig.add_subplot(projection='3d')\n",
    "ax.set_xlabel('X Axis')\n",
    "ax.set_ylabel('Y Axis')\n",
    "ax.set_zlabel('Z Axis')\n",
    "\n",
    "while program:\n",
    "    for x in range(len(portList)):\n",
    "        if portList[x].startswith(\"COM\" + str(val)):\n",
    "            portVar = \"COM\" + str(val)\n",
    "            print(portList[x])\n",
    "            \n",
    "    if portVar is None:\n",
    "        print(\"There are no open ports\")\n",
    "        program = False\n",
    "        break\n",
    "            \n",
    "    serialInst.baudrate = 9600\n",
    "    serialInst.port = portVar\n",
    "    serialInst.open()\n",
    "\n",
    "    while True:\n",
    "        try: \n",
    "            if serialInst.in_waiting: # if there is data in the buffer\n",
    "                packet = serialInst.readline()\n",
    "                decoded = packet.decode('utf-8')\n",
    "                line = decoded.lstrip() # removing whitespaces at the beginning\n",
    "                \n",
    "                \n",
    "                if line and (line[0].isdigit() or line[0] == '-'):\n",
    "                    acc_tilt = line.split(\"|\")\n",
    "                    # acceleration\n",
    "                    acceleration = acc_tilt[0].split(\" \")\n",
    "                    acc_list = str(acceleration[0]).split(\"\\t\")\n",
    "                    acc_vector = []\n",
    "                    \n",
    "                    if len(acc_list) >= 3:\n",
    "                        x_acc = acc_list[0]\n",
    "                        y_acc = acc_list[1]\n",
    "                        z_acc = acc_list[2]\n",
    "                        acc_vector.append((x_acc, y_acc, z_acc))\n",
    "                        print(float(x_acc))\n",
    "                        \n",
    "                    \n",
    "                        \n",
    "                        ax.scatter(float(x_acc), float(y_acc), float(z_acc))\n",
    "                        ax.set_proj_type('ortho')\n",
    "                        ax.set_xlabel('X Axis')\n",
    "                        ax.set_ylabel('Y Axis')\n",
    "                        ax.set_zlabel('Z Axis')\n",
    "                        ax.set_title('Acceleration vector mapping with 1 IMU')\n",
    "                        plt.show()\n",
    "                    \n",
    "                    # tilt\n",
    "                    \"\"\"tilt_very_unclean = acc_tilt[1].strip()\n",
    "                    tilt_list = tilt_very_unclean.split(\"\\t\")\n",
    "                    tilt_01 = tilt_list[0] # not sure what this is actually measuring\n",
    "                    tilt_02 = tilt_list[1] # not sure what this is actually measuring\"\"\" \n",
    "                    \n",
    "                    \n",
    "                    \n",
    "        except SerialException as e:\n",
    "           print(f\"{e} error.\\nTry again.\")\n",
    "                \n",
    "      \n",
    "            \n",
    "    # decode this data further so that it can be used with the matplotlib code\n",
    "    # make it easier to stop and start the flow of data through combinations of key presses (for example)\n",
    "    # understand how to send transformed data across back from the serial  \n",
    "       # in a different way/different channel since I want this to pass through an (e.g.) ESP to send data to haptic motors\n",
    "       # need to understand how to communicate between multiple pieces of code automatically\n",
    "       # to display this clearly\"\"\"\n",
    "\n"
   ]
  }
 ],
 "metadata": {
  "language_info": {
   "name": "python"
  }
 },
 "nbformat": 4,
 "nbformat_minor": 5
}
