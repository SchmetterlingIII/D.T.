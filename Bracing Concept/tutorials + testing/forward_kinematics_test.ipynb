{
 "cells": [
  {
   "cell_type": "markdown",
   "id": "c7489539",
   "metadata": {},
   "source": [
    "# Forward Kinematics\n",
    "To produce the 3D linear piecewise function joining the sensors together, I will experiment with ways of calculating the forward kinematics. \n",
    "\n",
    "It will progress likely as this: \n",
    "- My initial intuition of how this should work\n",
    "- Improvements to that (and how other people approach this)\n",
    "- How matrices can make this process more efficient\n",
    "- How to interpolate these piecewise functions into a cubic spline"
   ]
  }
 ],
 "metadata": {
  "language_info": {
   "name": "python"
  }
 },
 "nbformat": 4,
 "nbformat_minor": 5
}
