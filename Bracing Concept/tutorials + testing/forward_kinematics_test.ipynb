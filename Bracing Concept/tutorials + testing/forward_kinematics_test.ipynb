{
 "cells": [
  {
   "cell_type": "markdown",
   "id": "c7489539",
   "metadata": {},
   "source": [
    "# Forward Kinematics\n",
    "To produce the 3D linear piecewise function joining the sensors together, I will experiment with ways of calculating the forward kinematics. \n",
    "\n",
    "It will progress likely as this: \n",
    "- My initial intuition of how this should work\n",
    "- Improvements to that (and how other people approach this)\n",
    "- How matrices can make this process more efficient\n",
    "- How to interpolate these piecewise functions into a cubic spline"
   ]
  },
  {
   "cell_type": "code",
   "execution_count": null,
   "id": "61662693",
   "metadata": {},
   "outputs": [],
   "source": [
    "# import modules\n",
    "import random\n",
    "import time # to have a delay in the plotting of the jittery points\n",
    "import numpy as np\n",
    "import matplotlib.pyplot as plt\n",
    "import math\n",
    "\n",
    "# show 6 3D vectors\n",
    "# how would this be changed with the parsing of the different channels from the serial? \n",
    "vector_list = [(random.uniform(-3, 3), random.uniform(-3, 3), random.uniform(-3, 3)) for i in range(6)]\n",
    "\n",
    "# attribute a distance to them all\n",
    "distance_n = [0.2, 0.13, 0.3, 0.22, 0.18] # only 5 distances between the points\n",
    "\n",
    "# show scaled vectors (to the distances of \"n\")\n",
    "magnitude_vector_list = [math.sqrt((vector_list[i][0] ** 2) + (vector_list[i][1] ** 2) + (vector_list[i][2] ** 2)) for i in range(len(vector_list))]\n",
    "normalised_vector_list = [((vector_list[i][0] / magnitude_vector_list[i]), (vector_list[i][1] / magnitude_vector_list[i]), (vector_list[i][2] / magnitude_vector_list[i])) for i in range(len(vector_list))]\n",
    "\n",
    "# calculate the base coordinates for each of the vectors\n",
    "base_0 = [0,0,0] # the origin (an arbitrary invariant (fixed) point)\n",
    "base_1 = [(normalised_vector_list[0][0]), (normalised_vector_list[0][1]), (normalised_vector_list[0][2])]\n",
    "base_2 = [(normalised_vector_list[0][0] + normalised_vector_list[1][0]), (normalised_vector_list[0][1] + normalised_vector_list[1][1]), (normalised_vector_list[0][2] + normalised_vector_list[1][2])]\n",
    "\n",
    "# plot static graph with vectors\n",
    "fig = plt.figure()\n",
    "ax = fig.add_subplot(projection = '3d')\n",
    "\n",
    "\"\"\"\n",
    "\n",
    "ax.quiver(0, 0, 0, vector_list[0][0], vector_list[0][1], vector_list[0][2], color = \"b\", arrow_length_ratio = 0.05)\n",
    "ax.quiver(0, 0, 0, vector_list[1][0], vector_list[1][1], vector_list[1][2], color = \"r\", arrow_length_ratio = 0.05)\n",
    "ax.quiver(0, 0, 0, vector_list[2][0], vector_list[2][1], vector_list[2][2], color = \"g\", arrow_length_ratio = 0.05)\n",
    "ax.quiver(0, 0, 0, vector_list[3][0], vector_list[3][1], vector_list[3][2], color = \"k\", arrow_length_ratio = 0.05)\n",
    "\n",
    "\"\"\"\n",
    "\n",
    "ax.quiver(0, 0, 0, normalised_vector_list[0][0], normalised_vector_list[0][1], normalised_vector_list[0][2], color = \"b\", arrow_length_ratio = 0.05)\n",
    "ax.quiver(base_1[0], base_1[1], base_1[2], normalised_vector_list[1][0], normalised_vector_list[1][1], normalised_vector_list[1][2], color = \"r\", arrow_length_ratio = 0.05)\n",
    "ax.quiver(base_2[0], base_2[1], base_2[2], normalised_vector_list[2][0], normalised_vector_list[2][1], normalised_vector_list[2][2], color = \"g\", arrow_length_ratio = 0.05)\n",
    "# ax.quiver(0, 0, 0, normalised_vector_list[3][0], normalised_vector_list[3][1], normalised_vector_list[3][2], color = \"k\", arrow_length_ratio = 0.05)\n",
    "\n",
    "ax.set_xlim([-3, 3])\n",
    "ax.set_ylim([-3, 3])\n",
    "ax.set_zlim([-3, 3])\n",
    "\n",
    "ax.set_xlabel(\"X-Axis\")\n",
    "ax.set_ylabel(\"Y-Axis\")\n",
    "ax.set_zlabel(\"Z-Axis\")\n",
    "ax.set_title('Vector Positions')\n",
    "\n",
    "\n",
    "ax.set_proj_type('ortho')\n",
    "plt.show()"
   ]
  },
  {
   "cell_type": "markdown",
   "id": "de5817ea",
   "metadata": {},
   "source": [
    "#### Improvement\n",
    "![\n",
    "](attachment:image-2.png)\n",
    "\n",
    "There was a minor mistake in the initial code which has been resolved now"
   ]
  }
 ],
 "metadata": {
  "language_info": {
   "name": "python"
  }
 },
 "nbformat": 4,
 "nbformat_minor": 5
}
