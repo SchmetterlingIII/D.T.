{
 "cells": [
  {
   "cell_type": "markdown",
   "id": "1a3210a9",
   "metadata": {},
   "source": [
    "# Cubic Interpolation\n",
    "Using the forward kinematics data from before, I will be using cubic interpolation to produce a smooth curve of the vector coordinates that I had previously recorded. \n",
    "\n",
    "### Intention\n",
    "To produce a function that maintains the certain essence of a \"shape\". To be applied to the \"shape\" of the spine later on, but for this it could something *simpler* like one period of a sine wave (or something that looks similar to that). Trying to adjust something into that would be the challenge of the coded side of this since the checking if this final function -- to be displayed using {some numpy function} -- is within a specified range seems pretty easy (although potentially computationally intensive if I code inefficiently)."
   ]
  },
  {
   "cell_type": "markdown",
   "id": "f4e9893f",
   "metadata": {},
   "source": [
    "## Sources & Orders of Business\n",
    "https://www.youtube.com/watch?v=9R5UxtJQNNg\n",
    "1. Understand what cubic interpolation is and do some maths around this. Try and learn it well and explain it (to myself obviously)."
   ]
  }
 ],
 "metadata": {
  "language_info": {
   "name": "python"
  }
 },
 "nbformat": 4,
 "nbformat_minor": 5
}
