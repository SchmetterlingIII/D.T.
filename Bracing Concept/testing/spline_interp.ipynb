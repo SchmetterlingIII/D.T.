{
  "cells": [
    {
      "cell_type": "markdown",
      "metadata": {
        "id": "view-in-github",
        "colab_type": "text"
      },
      "source": [
        "<a href=\"https://colab.research.google.com/github/SchmetterlingIII/D.T./blob/main/Bracing%20Concept/testing/spline_interp.ipynb\" target=\"_parent\"><img src=\"https://colab.research.google.com/assets/colab-badge.svg\" alt=\"Open In Colab\"/></a>"
      ]
    },
    {
      "cell_type": "markdown",
      "id": "4572653b",
      "metadata": {
        "id": "4572653b"
      },
      "source": [
        "# Spline Interpretation\n",
        "The function of this .ipynb file is to:\n",
        "\n",
        "    a. Interpret the curvature of a 2D spline\n",
        "    b. Do the same with a 3D spline\n",
        "    c. Do the same with the sensor data (and from now on, only testing with real data rather than abstracted forms as I am nearing the deadline)"
      ]
    },
    {
      "cell_type": "markdown",
      "source": [
        "### 2D Spline Interpretation"
      ],
      "metadata": {
        "id": "qWynTC6mVYnA"
      },
      "id": "qWynTC6mVYnA"
    },
    {
      "cell_type": "markdown",
      "source": [
        "```\n",
        "a. Plot these lines & interplolations\n",
        "b. For each segment, get the second derivative and plot them dynamically\n",
        "```\n"
      ],
      "metadata": {
        "id": "oa_Xr0phpBm0"
      },
      "id": "oa_Xr0phpBm0"
    },
    {
      "cell_type": "code",
      "source": [
        "import ipywidgets as ipy\n",
        "import numpy as np\n",
        "from scipy.interpolate import CubicSpline\n",
        "import matplotlib.pyplot as plt\n",
        "from IPython.display import display, Math"
      ],
      "metadata": {
        "id": "Ie7wFRiaVdbs"
      },
      "id": "Ie7wFRiaVdbs",
      "execution_count": null,
      "outputs": []
    },
    {
      "cell_type": "code",
      "execution_count": null,
      "id": "6d95c769",
      "metadata": {
        "id": "6d95c769"
      },
      "outputs": [],
      "source": [
        "def spline_function(x=1):\n",
        "    fig, ax = plt.subplots(figsize=(5,5))\n",
        "\n",
        "    x_list = [-10, 0, x]\n",
        "    eps = 0.01 # small value so that points aren't stacked on top of each other\n",
        "\n",
        "    # strictly increasing list\n",
        "    inc_x_list = []\n",
        "    for i, val in enumerate(x_list):\n",
        "        if i == 0:\n",
        "            inc_x_list.append(val)\n",
        "        else:\n",
        "            # make sure each value larger than previous\n",
        "            inc_x_list.append(max(val, inc_x_list[-1] + eps))\n",
        "\n",
        "    xs = np.array(inc_x_list)\n",
        "    ys = np.array([0, 50, 100])\n",
        "\n",
        "    # I cannot interpret the derivatives of clamped cubic splines\n",
        "    cs = CubicSpline(xs, ys, bc_type='natural')\n",
        "    coeffs = []\n",
        "    for i in range(2):\n",
        "        for j in range(4):\n",
        "            coeffs.append(cs.c[j,i])\n",
        "    # coeffs 0 - 3 are for first segment; 4-7 for second\n",
        "    display(Math(f\"f(x) = {coeffs[0]:.5f}(x + {-1 * xs[0]})^3\"))\n",
        "    print(coeffs)\n",
        "    print(x_list)\n",
        "\n",
        "    x_plot = np.linspace(xs[0], xs[-1], 100)\n",
        "\n",
        "    # plots of f(x), f'(x) and f''(x)\n",
        "    ax.plot(x_plot, cs(x_plot), alpha=0.8, label='f(x)')\n",
        "    ax.plot(x_plot, cs(x_plot, 1), label = \"f'(x)\")\n",
        "    ax.plot(x_plot, cs(x_plot, 2), label = 'f''(x)')\n",
        "    ax.scatter(xs, ys, color='k')\n",
        "\n",
        "    \"\"\"\n",
        "    if the gradient of the second derivative is greater than three\n",
        "    i.e. if the third derivative is greater than three\n",
        "    \"\"\"\n",
        "    second_deriv_linear_coeff = coeffs[0] * 6 # gradient of second derivative of first segment\n",
        "    if second_deriv_linear_coeff > 3:\n",
        "        ax.clear()\n",
        "        # plots of f(x), f'(x) and f''(x)\n",
        "        ax.plot(x_plot, cs(x_plot), color='k', alpha=1, label='f(x)')\n",
        "        ax.plot(x_plot, cs(x_plot, 1), label = \"f'(x)\")\n",
        "        ax.plot(x_plot, cs(x_plot, 2), label = 'f''(x)')\n",
        "        ax.scatter(xs, ys, color='k')\n",
        "        print(\"Threshold has been exceeded.\\nPlot not being displayed.\")\n",
        "\n",
        "\n",
        "    # setup\n",
        "    ax.grid(alpha=0.25)\n",
        "    ax.set_xlim(-10.5, 10.5)\n",
        "    ax.set_ylim(-5, 105)\n",
        "\n",
        "    plt.show()"
      ]
    },
    {
      "cell_type": "code",
      "source": [
        "ipy.interact(spline_function, x=(0, 10, 0.05))"
      ],
      "metadata": {
        "id": "GCceRvOlViPM"
      },
      "id": "GCceRvOlViPM",
      "execution_count": null,
      "outputs": []
    },
    {
      "cell_type": "markdown",
      "source": [
        "### Sensor Test\n",
        "**Deadline: Tomorrow**\n",
        "\n",
        "Here I will be using the input of the sensor accelerometer data and doing a similar test: first interpolating using a cubic spline and then reading the second derivative in real time.\n",
        "\n",
        "This can only be done in Thonny so the results of this are to be recorded on my phone.\n",
        "\n",
        "**Intended Outcome**:\n",
        "```\n",
        "1. Live (noisy) sensor data displayed as vectors, using measured positions as inputs (and designing an algorithm to properly handle that)\n",
        "2. Cubic spline interpolation of this -- still live and handled well\n",
        "3. Second derivative display of this data, using feedback from how much I have curved the magnetic sheet to define the thresholds for each area.\n",
        "4. Some output change (flashing lights on the Arduino) when the threshold has been exceeded\n",
        "```\n",
        "\n",
        "**Extension:**\n",
        "```\n",
        "- Cleaning up noisy sensor data (or displaying this accumulated noise in a graph).\n",
        "- Seeing how the spine curves naturally (on the sagittal plane) and getting better results through numerical methods (seeing recordings of people moving their spine or something).\n",
        "    - This can be developed by me using the IMUs as the beginning for good data collection on this. Therefore, if researchers were then to move on the graphene tubes that I am to research, they would have a good baseline to work from.\n",
        "\n",
        "```"
      ],
      "metadata": {
        "id": "UWb0sV0AzJGQ"
      },
      "id": "UWb0sV0AzJGQ"
    },
    {
      "cell_type": "markdown",
      "source": [
        "# Challenge Roadmap: Live Spine Model Prototype\n",
        "\n",
        "### Challenge 1: Live Sensor Data & Kinematic Chaining\n",
        "\n",
        "**Objective:** To transform raw serial data from multiple IMUs into a live, 3D representation of their positions in space.\n",
        "\n",
        "-   **Serial to Vector:** Implement a Python script to read and parse the serial stream from the Arduino, converting the raw text into a list of 3D vectors `[(ax1, ay1, az1), (ax2, ay2, az2), ...]`.\n",
        "-   **Kinematic Chain Algorithm:** Adapt your `forward_kinematics` function to calculate the 3D position of each sensor relative to the one before it, forming a kinematic chain.\n",
        "-   **Live Visualisation:** Use `matplotlib`'s animation capabilities to create a 3D scatter plot in Thonny that updates in real-time with the calculated sensor positions.\n",
        "\n"
      ],
      "metadata": {
        "id": "FSpLZEvC81yA"
      },
      "id": "FSpLZEvC81yA"
    },
    {
      "cell_type": "code",
      "source": [
        "import serial.tools.list_ports\n",
        "import string\n",
        "import serial\n",
        "import matplotlib.pyplot as plt\n",
        "from matplotlib.animation import FuncAnimation\n",
        "import time\n",
        "from collections import deque\n",
        "import numpy as np\n",
        "\n",
        "# reading the serial data\n",
        "BAUDRATE = 115200\n",
        "try:\n",
        "    ports = serial.tools.list_ports.comports()\n",
        "    serialInst = serial.Serial()\n",
        "    portList = [str(i) for i in ports]\n",
        "    print(portList)\n",
        "\n",
        "    com = input(\"Select COM PORT for Arduino: \")\n",
        "\n",
        "    for i in range(len(portList)):\n",
        "        if portList[i].startswith(\"COM\" + str(com)):\n",
        "            SERIAL_PORT = \"COM\" + str(com)\n",
        "            print(SERIAL_PORT)\n",
        "\n",
        "    serialInst.baudrate = BAUDRATE\n",
        "    serialInst.port = SERIAL_PORT\n",
        "    serialInst.open()\n",
        "    print(f\"Connected to {SERIAL_PORT} at {BAUDRATE} baud.\")\n",
        "\n",
        "    ## initial setup: 'begin program'\n",
        "    while True:\n",
        "        line = serialInst.readline().decode('utf-8') #.strip()\n",
        "        if line: # if there is data in the readline\n",
        "            print(f\"Arduino: {line}\")\n",
        "        if \"Number of sensors: \" in line:\n",
        "           ID_NUM = int(line.strip(\":\")[-3]) # the number of read sensors\n",
        "           #print(ID_NUM)\n",
        "           IMU_DEQUES = [deque(maxlen=50) for i in range(ID_NUM)]\n",
        "        if \"Waiting for 'begin program' command\" in line:\n",
        "            break\n",
        "\n",
        "    # get the linear distances for the forward kinematics calculation\n",
        "    print(\"INSTRUCTIONS:\\nInput the linear distances between your sensors in metres.\\nMeasure from lowest to highest.\\nI would recommend using a high resolution ruler to reduce drift.\\n\")\n",
        "    linear_distances = []\n",
        "    for i in range(ID_NUM - 1):\n",
        "        value = float(input(f\"{i + 1}: \"))\n",
        "        linear_distances.append(value)\n",
        "\n",
        "    print(\"Sending 'begin' command to Arduino\")\n",
        "    serialInst.write(b'begin program') # sent in bytes rather than high level strings\n",
        "\n",
        "    while True:\n",
        "        IMU_FULL_CHANNEL_DATA = serialInst.readline().decode('utf-8').strip().split(\",\")\n",
        "        IMU_ID = int(IMU_FULL_CHANNEL_DATA[-1])\n",
        "        IMU_DATA = [float(acc) for acc in IMU_FULL_CHANNEL_DATA[:3]] # ONLY APPENDING ACCELERATION, TO CHANGE WHEN DOING KALMAN FILTERING\n",
        "        IMU_DATA_NORM = IMU_DATA/np.linalg.norm(IMU_DATA)\n",
        "\n",
        "        if IMU_ID == 1:\n",
        "            IMU_DEQUES[0].append(IMU_DATA_NORM)\n",
        "\n",
        "        elif IMU_ID == 2:\n",
        "            IMU_DEQUES[1].append(IMU_DATA_NORM)\n",
        "\n",
        "        elif IMU_ID == 7:\n",
        "            IMU_DEQUES[2].append(IMU_DATA_NORM)\n",
        "\n",
        "        else:\n",
        "            print(f\"Warning: Recieved data from unknown data channel @ {IMU_ID}\")\n",
        "\n",
        "        if IMU_DEQUES[0] and IMU_DEQUES[1] and IMU_DEQUES[2]:\n",
        "\n",
        "            IMU_NORMALISED_MATRIX = [IMU_DEQUES[0][-1], IMU_DEQUES[1][-1], IMU_DEQUES[2][-1]]\n",
        "            #print(IMU_NORMALISED_MATRIX)\n",
        "\n",
        "            # SCALE BY THE LINEAR DISTANCES BETWEEN THE SENSORS\n",
        "\n",
        "            ## DEFINE FORWARD KINEMATICS FUNCTION\n",
        "            ### MORE EFFICIENT THAN INITIAL\n",
        "            ### O(N) << O(N^2)\n",
        "            def forward_kinematics(matrix):\n",
        "                # Start with the position of the first sensor (the base)\n",
        "                if not matrix:\n",
        "                    return []\n",
        "                positions = [np.array(matrix[0])]\n",
        "\n",
        "                for i in range(1, len(matrix)):\n",
        "                    direction_vector = np.array(matrix[i])\n",
        "                    distance = linear_distances[i-1]\n",
        "                    link_vector = direction_vector * distance\n",
        "                    new_pos = positions[i-1] + link_vector\n",
        "                    positions.append(new_pos)\n",
        "\n",
        "                return positions\n",
        "\n",
        "            IMU_POSITIONS = np.array(forward_kinematics(IMU_NORMALISED_MATRIX))\n",
        "            print(len(IMU_POSITIONS))\n",
        "\n",
        "\n",
        "            # USE RETURNED VALUES TO PLOT (NO CUBIC SPLINE HERE)\n",
        "            # plot setup\n",
        "            fig = plt.figure()\n",
        "            ax = fig.add_subplot(projection = '3d')\n",
        "\n",
        "            # ANIMATE(i) MATPLOTLIB\n",
        "            def animate(i):\n",
        "                ax.clear()\n",
        "\n",
        "                ## plot the points of each of the IMUs\n",
        "                ax.scatter(IMU_POSITIONS[:, 0], IMU_POSITIONS[:, 1], IMU_POSITIONS[:, 2])\n",
        "\n",
        "                ## constants\n",
        "                ax.set_title(\"IMU Positions\")\n",
        "\n",
        "            # PLOTTING DISPLAY\n",
        "            anim = FuncAnimation(fig, animate, cache_frame_data=False, interval = 300)\n",
        "\n",
        "            #ax.set_proj_type('ortho')\n",
        "            plt.show()\n",
        "\n",
        "except Exception as e:\n",
        "    print(f\"ERROR: {e}\")"
      ],
      "metadata": {
        "id": "z60_I11o208U"
      },
      "id": "z60_I11o208U",
      "execution_count": null,
      "outputs": []
    },
    {
      "cell_type": "code",
      "source": [
        "a = [\"1\",\"1\",\"1\",\"1\",\"1\"]\n",
        "print(([int(i) for i in a]))"
      ],
      "metadata": {
        "colab": {
          "base_uri": "https://localhost:8080/"
        },
        "id": "Viuc5bVYfk-u",
        "outputId": "3a93f393-14ae-4d93-bcac-90cc12c03859"
      },
      "id": "Viuc5bVYfk-u",
      "execution_count": 30,
      "outputs": [
        {
          "output_type": "stream",
          "name": "stdout",
          "text": [
            "[1, 1, 1, 1, 1]\n"
          ]
        }
      ]
    },
    {
      "cell_type": "markdown",
      "source": [],
      "metadata": {
        "id": "okxhV6U6AZKu"
      },
      "id": "okxhV6U6AZKu"
    },
    {
      "cell_type": "markdown",
      "source": [
        "### Challenge 2: Real-time Parametric Spline Interpolation\n",
        "\n",
        "**Objective:** To fit a smooth, 3D curve through the live sensor positions, creating a dynamic model of the spine's shape.\n",
        "\n",
        "-   **Parametric `CubicSpline`:**\n",
        "    * **Task:** Use `scipy.interpolate.CubicSpline` instead of `interp1d`. Create three separate spline objects: `cs_x`, `cs_y`, and `cs_z`.\n",
        "    * **Exploration:** The `t` parameter will be the measured linear distance between your sensors along the spine model (your `linear_distance` list). You will interpolate each axis against this parameter: `cs_x = CubicSpline(t_values, x_positions)`, `cs_y = CubicSpline(t_values, y_positions)`, etc. This is the core of your parametrisation.\n",
        "\n",
        "-   **Data Handling & Error Management:**\n",
        "    * **Task:** Your real-time loop (Read -> Calculate -> Interpolate) must be robust. What happens if the Arduino sends a corrupted line of data or a sensor reading spikes unnaturally?\n",
        "    * **Challenge:** Investigate using `collections.deque` with a fixed length (e.g., `maxlen=5`) to create a moving average for your sensor data. This can smooth out noise and make your spline less erratic. For handling errors (like a missed serial line), implement a `try-except` block to catch parsing errors and decide whether to skip the frame or reuse the last valid data.\n",
        "\n",
        "-   **Modular Design (Future-Proofing):**\n",
        "    * **Task:** Structure your code so that the spline type can be easily changed.\n",
        "    * **Challenge:** Create a main \"interpolation\" function that takes the spline type as an argument (e.g., `kind='cubic'` or `kind='quadratic'`). This makes it simple to experiment with other spline types later without rewriting your entire script.\n",
        "\n"
      ],
      "metadata": {
        "id": "mB7NNzmZ21Yr"
      },
      "id": "mB7NNzmZ21Yr"
    },
    {
      "cell_type": "code",
      "source": [],
      "metadata": {
        "id": "HHHh56YD25x3"
      },
      "id": "HHHh56YD25x3",
      "execution_count": null,
      "outputs": []
    },
    {
      "cell_type": "markdown",
      "source": [
        "### Challenge 3 & 4: Real-time Curvature Analysis & Feedback\n",
        "\n",
        "**Objective:** To analyze the spline's shape to detect excessive bending and send a feedback signal to the Arduino.\n",
        "\n",
        "-   **Calculating Curvature from Derivatives:**\n",
        "    * **Task:** For each spline object, use `cs.derivative(nu=2)` to get the second derivative functions (`x''(t)`, `y''(t)`, `z''(t)`).\n",
        "    * **Mathematical Challenge:** True curvature ($ \\kappa $) is defined by the formula $ \\kappa(t)=\\frac{\\|\\mathbf{S}'(t) \\times \\mathbf{S}''(t)\\|}{\\|\\mathbf{S}'(t)\\|^3} $. A powerful and effective proxy for this is the **magnitude of the second derivative vector**:\n",
        "        $$ \\text{Curvature Proxy} = \\|\\mathbf{S}''(t)\\| = \\sqrt{(x''(t))^2 + (y''(t))^2 + (z''(t))^2} $$\n",
        "        Your task is to calculate this value at various points along each segment of your spline in real-time.\n",
        "    * **Resource:** Your link on deriving curvature (`mathematics.stackexchange.com`) is excellent for understanding the theory. Focus on implementing the proxy formula first, as it directly relates curvature to the second derivatives you can easily compute.\n",
        "\n",
        "-   **Segment-Specific Thresholding:**\n",
        "    * **Task:** Create a list or dictionary of threshold values, one for each segment of the spine (e.g., `thresholds = [3.5, 4.0, 4.2, 3.8, 3.5]`).\n",
        "    * **Challenge:** In your animation loop, check if the calculated curvature proxy for a specific segment exceeds its corresponding threshold.\n",
        "\n",
        "-   **Arduino Feedback Loop:**\n",
        "    https://www.youtube.com/watch?v=XXjFtYZEQNw\n",
        "    * **Task:** When a threshold is breached, use Python's `serial` library to send a specific character (e.g., `'L'`) back to the Arduino.\n",
        "    * **Challenge:** Modify your Arduino code. It needs to continuously `Serial.read()` to check for incoming data *while* also performing its regular sensor measurements. An `if (Serial.available() > 0)` block will be essential here. When the character `'L'` is received, trigger the onboard LED to flash. This creates the fundamental feedback loop for your haptic motor system later on."
      ],
      "metadata": {
        "id": "Iup4vxGA26P7"
      },
      "id": "Iup4vxGA26P7"
    }
  ],
  "metadata": {
    "language_info": {
      "name": "python"
    },
    "colab": {
      "provenance": [],
      "include_colab_link": true
    },
    "kernelspec": {
      "name": "python3",
      "display_name": "Python 3"
    }
  },
  "nbformat": 4,
  "nbformat_minor": 5
}