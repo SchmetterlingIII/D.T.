{
  "cells": [
    {
      "cell_type": "markdown",
      "metadata": {
        "id": "view-in-github",
        "colab_type": "text"
      },
      "source": [
        "<a href=\"https://colab.research.google.com/github/SchmetterlingIII/D.T./blob/main/Bracing%20Concept/testing/spline_interp.ipynb\" target=\"_parent\"><img src=\"https://colab.research.google.com/assets/colab-badge.svg\" alt=\"Open In Colab\"/></a>"
      ]
    },
    {
      "cell_type": "markdown",
      "id": "4572653b",
      "metadata": {
        "id": "4572653b"
      },
      "source": [
        "# Spline Interpretation\n",
        "The function of this .ipynb file is to:\n",
        "\n",
        "    a. Interpret the curvature of a 2D spline\n",
        "    b. Do the same with a 3D spline\n",
        "    c. Do the same with the sensor data (and from now on, only testing with real data rather than abstracted forms as I am nearing the deadline)"
      ]
    },
    {
      "cell_type": "markdown",
      "source": [
        "### 2D Spline Interpretation"
      ],
      "metadata": {
        "id": "qWynTC6mVYnA"
      },
      "id": "qWynTC6mVYnA"
    },
    {
      "cell_type": "markdown",
      "source": [
        "```\n",
        "a. Plot these lines & interplolations\n",
        "b. For each segment, get the second derivative and plot them dynamically\n",
        "```\n",
        "\n",
        "b:\n",
        "- understand directly what the CubicSpline function does\n",
        "- extract the functions in each of the domains (review `cubic_spline_interpolation.ipynb`)\n",
        "- use sympy to get the second derivative and plot that\n",
        "\n",
        "**After finishing this:**\n",
        "- search for more efficient ways of this workflow (in-built 2nd derivative functions that are part of a module that workds well in real time)"
      ],
      "metadata": {
        "id": "oa_Xr0phpBm0"
      },
      "id": "oa_Xr0phpBm0"
    },
    {
      "cell_type": "code",
      "source": [
        "import ipywidgets as ipy\n",
        "import numpy as np\n",
        "from scipy.interpolate import CubicSpline\n",
        "import matplotlib.pyplot as plt"
      ],
      "metadata": {
        "id": "Ie7wFRiaVdbs"
      },
      "id": "Ie7wFRiaVdbs",
      "execution_count": 44,
      "outputs": []
    },
    {
      "cell_type": "code",
      "execution_count": 45,
      "id": "6d95c769",
      "metadata": {
        "id": "6d95c769"
      },
      "outputs": [],
      "source": [
        "def spline_function(x=1):\n",
        "    fig, ax = plt.subplots(figsize=(5,5))\n",
        "\n",
        "    x_list = [-10, 0, x]\n",
        "    eps = 0.01 # small value so that points aren't stacked on top of each other\n",
        "\n",
        "    # strictly increasing list\n",
        "    inc_x_list = []\n",
        "    for i, val in enumerate(x_list):\n",
        "        if i == 0:\n",
        "            inc_x_list.append(val)\n",
        "        else:\n",
        "            # make sure each value larger than previous\n",
        "            inc_x_list.append(max(val, inc_x_list[-1] + eps))\n",
        "\n",
        "    xs = np.array(inc_x_list)\n",
        "    ys = np.array([0, 50, 100])\n",
        "\n",
        "    cs = CubicSpline(xs, ys, bc_type='natural')\n",
        "\n",
        "    print(x_list)\n",
        "\n",
        "    x_plot = np.linspace(xs[0], xs[-1], 100)\n",
        "    ax.plot(x_plot, cs(x_plot), alpha=0.8)\n",
        "    ax.scatter(xs, ys, color='k')\n",
        "    ax.grid(alpha=0.25)\n",
        "    ax.set_xlim(-10.5, 10.5)\n",
        "    ax.set_ylim(-50, 105)\n",
        "    plt.show()"
      ]
    },
    {
      "cell_type": "code",
      "source": [
        "ipy.interact(spline_function, x=(0, 10, 0.05))"
      ],
      "metadata": {
        "id": "GCceRvOlViPM"
      },
      "id": "GCceRvOlViPM",
      "execution_count": null,
      "outputs": []
    }
  ],
  "metadata": {
    "language_info": {
      "name": "python"
    },
    "colab": {
      "provenance": [],
      "include_colab_link": true
    },
    "kernelspec": {
      "name": "python3",
      "display_name": "Python 3"
    }
  },
  "nbformat": 4,
  "nbformat_minor": 5
}