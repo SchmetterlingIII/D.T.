{
  "cells": [
    {
      "cell_type": "markdown",
      "metadata": {
        "id": "view-in-github",
        "colab_type": "text"
      },
      "source": [
        "<a href=\"https://colab.research.google.com/github/SchmetterlingIII/D.T./blob/main/Bracing%20Concept/testing/spline_interp.ipynb\" target=\"_parent\"><img src=\"https://colab.research.google.com/assets/colab-badge.svg\" alt=\"Open In Colab\"/></a>"
      ]
    },
    {
      "cell_type": "code",
      "source": [
        "%autosave 60"
      ],
      "metadata": {
        "id": "8y7OC91qlcRs",
        "outputId": "47d435d8-1b2b-4c10-d64d-96ed39545b65",
        "colab": {
          "base_uri": "https://localhost:8080/",
          "height": 34
        }
      },
      "id": "8y7OC91qlcRs",
      "execution_count": 5,
      "outputs": [
        {
          "output_type": "display_data",
          "data": {
            "application/javascript": [
              "IPython.notebook.set_autosave_interval(60000)"
            ]
          },
          "metadata": {}
        },
        {
          "output_type": "stream",
          "name": "stdout",
          "text": [
            "Autosaving every 60 seconds\n"
          ]
        }
      ]
    },
    {
      "cell_type": "markdown",
      "id": "4572653b",
      "metadata": {
        "id": "4572653b"
      },
      "source": [
        "# Spline Interpretation\n",
        "The function of this .ipynb file is to:\n",
        "\n",
        "    a. Interpret the curvature of a 2D spline\n",
        "    b. Do the same with a 3D spline\n",
        "    c. Do the same with the sensor data (and from now on, only testing with real data rather than abstracted forms as I am nearing the deadline)"
      ]
    },
    {
      "cell_type": "markdown",
      "source": [
        "### 2D Spline Interpretation"
      ],
      "metadata": {
        "id": "qWynTC6mVYnA"
      },
      "id": "qWynTC6mVYnA"
    },
    {
      "cell_type": "markdown",
      "source": [
        "```\n",
        "a. Plot these lines & interplolations\n",
        "b. For each segment, get the second derivative and plot them dynamically\n",
        "```"
      ],
      "metadata": {
        "id": "oa_Xr0phpBm0"
      },
      "id": "oa_Xr0phpBm0"
    },
    {
      "cell_type": "code",
      "source": [
        "import ipywidgets as ipy\n",
        "import numpy as np\n",
        "from scipy.interpolate import CubicSpline\n",
        "import matplotlib.pyplot as plt\n",
        "from IPython.display import display, Math"
      ],
      "metadata": {
        "id": "Ie7wFRiaVdbs"
      },
      "id": "Ie7wFRiaVdbs",
      "execution_count": null,
      "outputs": []
    },
    {
      "cell_type": "code",
      "execution_count": null,
      "id": "6d95c769",
      "metadata": {
        "id": "6d95c769"
      },
      "outputs": [],
      "source": [
        "def spline_function(x=1):\n",
        "    fig, ax = plt.subplots(figsize=(5,5))\n",
        "\n",
        "    x_list = [-10, 0, x]\n",
        "    eps = 0.01 # small value so that points aren't stacked on top of each other\n",
        "\n",
        "    # strictly increasing list\n",
        "    inc_x_list = []\n",
        "    for i, val in enumerate(x_list):\n",
        "        if i == 0:\n",
        "            inc_x_list.append(val)\n",
        "        else:\n",
        "            # make sure each value larger than previous\n",
        "            inc_x_list.append(max(val, inc_x_list[-1] + eps))\n",
        "\n",
        "    xs = np.array(inc_x_list)\n",
        "    ys = np.array([0, 50, 100])\n",
        "\n",
        "    # I cannot interpret the derivatives of clamped cubic splines\n",
        "    cs = CubicSpline(xs, ys, bc_type='natural')\n",
        "    coeffs = []\n",
        "    for i in range(2):\n",
        "        for j in range(4):\n",
        "            coeffs.append(cs.c[j,i])\n",
        "    # coeffs 0 - 3 are for first segment; 4-7 for second\n",
        "    display(Math(f\"f(x) = {coeffs[0]:.5f}(x + {-1 * xs[0]})^3\"))\n",
        "    print(coeffs)\n",
        "    print(x_list)\n",
        "\n",
        "    x_plot = np.linspace(xs[0], xs[-1], 100)\n",
        "\n",
        "    # plots of f(x), f'(x) and f''(x)\n",
        "    ax.plot(x_plot, cs(x_plot), alpha=0.8, label='f(x)')\n",
        "    ax.plot(x_plot, cs(x_plot, 1), label = \"f'(x)\")\n",
        "    ax.plot(x_plot, cs(x_plot, 2), label = 'f''(x)')\n",
        "    ax.scatter(xs, ys, color='k')\n",
        "\n",
        "    \"\"\"\n",
        "    if the gradient of the second derivative is greater than three\n",
        "    i.e. if the third derivative is greater than three\n",
        "    \"\"\"\n",
        "    second_deriv_linear_coeff = coeffs[0] * 6 # gradient of second derivative of first segment\n",
        "    if second_deriv_linear_coeff > 3:\n",
        "        ax.clear()\n",
        "        # plots of f(x), f'(x) and f''(x)\n",
        "        ax.plot(x_plot, cs(x_plot), color='k', alpha=1, label='f(x)')\n",
        "        ax.plot(x_plot, cs(x_plot, 1), label = \"f'(x)\")\n",
        "        ax.plot(x_plot, cs(x_plot, 2), label = 'f''(x)')\n",
        "        ax.scatter(xs, ys, color='k')\n",
        "        print(\"Threshold has been exceeded.\\nPlot not being displayed.\")\n",
        "\n",
        "\n",
        "    # setup\n",
        "    ax.grid(alpha=0.25)\n",
        "    ax.set_xlim(-10.5, 10.5)\n",
        "    ax.set_ylim(-5, 105)\n",
        "\n",
        "    plt.show()"
      ]
    },
    {
      "cell_type": "code",
      "source": [
        "ipy.interact(spline_function, x=(0, 10, 0.05))"
      ],
      "metadata": {
        "id": "GCceRvOlViPM"
      },
      "id": "GCceRvOlViPM",
      "execution_count": null,
      "outputs": []
    },
    {
      "cell_type": "markdown",
      "source": [
        "### Sensor Test\n",
        "**Deadline: Tomorrow**\n",
        "\n",
        "Here I will be using the input of the sensor accelerometer data and doing a similar test: first interpolating using a cubic spline and then reading the second derivative in real time.\n",
        "\n",
        "This can only be done in Thonny so the results of this are to be recorded on my phone.\n",
        "\n",
        "**Intended Outcome**:\n",
        "```\n",
        "1. Live (noisy) sensor data displayed as vectors, using measured positions as inputs (and designing an algorithm to properly handle that)\n",
        "2. Cubic spline interpolation of this -- still live and handled well\n",
        "3. Second derivative display of this data, using feedback from how much I have curved the magnetic sheet to define the thresholds for each area.\n",
        "4. Some output change (flashing lights on the Arduino) when the threshold has been exceeded\n",
        "```\n",
        "\n",
        "**Extension:**\n",
        "```\n",
        "- Cleaning up noisy sensor data (or displaying this accumulated noise in a graph).\n",
        "- Seeing how the spine curves naturally (on the sagittal plane) and getting better results through numerical methods (seeing recordings of people moving their spine or something).\n",
        "    - This can be developed by me using the IMUs as the beginning for good data collection on this. Therefore, if researchers were then to move on the graphene tubes that I am to research, they would have a good baseline to work from.\n",
        "\n",
        "```"
      ],
      "metadata": {
        "id": "UWb0sV0AzJGQ"
      },
      "id": "UWb0sV0AzJGQ"
    },
    {
      "cell_type": "markdown",
      "source": [
        "# Challenge Roadmap: Live Spine Model Prototype\n",
        "\n",
        "**Task 1**: To transform raw serial data from multiple IMUs into a live, 3D representation of their positions in space.\n",
        "\n",
        "**Task 2**: Plot these as cubic splines (rather than linear interpolation)\n",
        "\n",
        "**Task 3**:\n",
        "- Curvature: use the second derivative of the splines (reading each of the pieces in the colleciton.deque)\n",
        "\n",
        "- Thresholds\n",
        "    ```\n",
        "    for segment in segments:\n",
        "        if segment_curvature > threshold:\n",
        "            set timer # using the python timer thing\n",
        "            if timer > threshold_time:\n",
        "                arduino_output\n",
        "                colour_change # for the graph\n",
        "\n",
        "    ```\n",
        "- `arduino_output`: sending a command through the serial to the Arduino to change the frequency of the flashing lights\n",
        "\n",
        "\n",
        "**EXTENSION**:\n",
        "- math_exchange on understanding *true curvature* -- https://math.stackexchange.com/questions/1457699/easy-derivation-to-show-that-the-curvature-is-kt-frac-alpha-wedge-alpha\n",
        "\n",
        "- planning how to test this properly at school (and what is left before only doing the aesthetics)\n",
        "- displaying how noisy the data is and trying to clean it up (having a buffer period for ths):\n",
        "    - this can be something I write about and explain but never apply since aesthetics and a lo-fi model is more important\n",
        "- getting this basic script sent off to surgeons en-masse for feedback on how to interpret sections further (and just asking for advice)\n"
      ],
      "metadata": {
        "id": "FSpLZEvC81yA"
      },
      "id": "FSpLZEvC81yA"
    },
    {
      "cell_type": "markdown",
      "source": [
        "`Before Progressing`:\n",
        "\n",
        "2. annotate the whole code so that I can understand it better for debugging"
      ],
      "metadata": {
        "id": "1q0DqRjTF503"
      },
      "id": "1q0DqRjTF503"
    },
    {
      "cell_type": "code",
      "source": [
        "import serial.tools.list_ports\n",
        "import string\n",
        "import serial\n",
        "import matplotlib.pyplot as plt\n",
        "from matplotlib.animation import FuncAnimation\n",
        "import time\n",
        "from collections import deque\n",
        "import numpy as np\n",
        "\n",
        "# reading the serial data\n",
        "BAUDRATE = 115200\n",
        "try:\n",
        "    # setup for port communication\n",
        "    ports = serial.tools.list_ports.comports()\n",
        "    serialInst = serial.Serial()\n",
        "    portList = [str(i) for i in ports]\n",
        "    print(portList)\n",
        "\n",
        "    com = input(\"Select COM PORT for Arduino: \")\n",
        "\n",
        "    for i in range(len(portList)):\n",
        "        if portList[i].startswith(\"COM\" + str(com)):\n",
        "            SERIAL_PORT = \"COM\" + str(com)\n",
        "            print(SERIAL_PORT)\n",
        "\n",
        "    serialInst.baudrate = BAUDRATE\n",
        "    serialInst.port = SERIAL_PORT\n",
        "    serialInst.open()\n",
        "    print(f\"Connected to {SERIAL_PORT} at {BAUDRATE} baud.\")\n",
        "\n",
        "    ## initial setup: 'begin program'\n",
        "    while True:\n",
        "        line = serialInst.readline().decode('utf-8') #.strip()\n",
        "        if line: # if there is data in the readline\n",
        "            print(f\"Arduino: {line}\")\n",
        "        if \"Number of sensors: \" in line:\n",
        "           ID_NUM = int(line.strip(\":\")[-3]) # the number of read sensors\n",
        "           #print(ID_NUM)\n",
        "           IMU_DEQUES = [deque(maxlen=50) for i in range(ID_NUM)]\n",
        "        if \"Waiting for 'begin program' command\" in line:\n",
        "            break\n",
        "\n",
        "    # get the linear distances for the forward kinematics calculation\n",
        "    print(\"INSTRUCTIONS:\\nInput the linear distances between your sensors in metres.\\nMeasure from lowest to highest.\\nI would recommend using a high resolution ruler to reduce drift.\\n\")\n",
        "    linear_distances = []\n",
        "    for i in range(ID_NUM - 1):\n",
        "        value = float(input(f\"{i + 1}: \"))\n",
        "        linear_distances.append(value)\n",
        "\n",
        "    print(\"Sending 'begin' command to Arduino\")\n",
        "    serialInst.write(b'begin program') # sent in bytes rather than high level strings\n",
        "                                       # since it is sent to the compiler\n",
        "\n",
        "    time.sleep(2)\n",
        "\n",
        "    ###############################################\n",
        "    \"\"\"             Data Handling               \"\"\"\n",
        "    ###############################################\n",
        "\n",
        "\n",
        "\n",
        "    # plot setup\n",
        "    fig = plt.figure()\n",
        "    ax = fig.add_subplot(projection = '3d')\n",
        "\n",
        "    ## set the points for the animate(i) function\n",
        "    ## these variables are what are updated (and saves clearing the plot each time)\n",
        "    scatter = ax.scatter([], [], [], s=50)\n",
        "    line, = ax.plot([], [], [])\n",
        "\n",
        "    ax.set_title(\"IMU Positions\")\n",
        "    ax.set_xlabel(\"X (m)\")\n",
        "    ax.set_ylabel(\"Y (m)\")\n",
        "    ax.set_zlabel(\"Z (m)\")\n",
        "\n",
        "\n",
        "    # SCALE BY THE LINEAR DISTANCES BETWEEN THE SENSORS\n",
        "    ### DEFINE FORWARD KINEMATICS FUNCTION\n",
        "    ### MORE EFFICIENT THAN INITIAL\n",
        "    ### O(N) << O(N^2)\n",
        "    def forward_kinematics(matrix):\n",
        "        # Start with the position of the first sensor (the base)\n",
        "        if not matrix:\n",
        "            return []\n",
        "        positions = [np.array(matrix[0])]\n",
        "\n",
        "        for i in range(1, len(matrix)):\n",
        "            direction_vector = np.array(matrix[i])\n",
        "            distance = linear_distances[i-1]\n",
        "            link_vector = direction_vector * distance\n",
        "            new_pos = positions[i-1] + link_vector\n",
        "            positions.append(new_pos)\n",
        "\n",
        "        return positions\n",
        "\n",
        "    ###############################################\n",
        "    \"\"\"             Data Plotting               \"\"\"\n",
        "    ###############################################\n",
        "\n",
        "    # the animate function embeds all\n",
        "    # otherwise more jagged plotting will take place\n",
        "    def animate(i):\n",
        "        try:\n",
        "            IMU_FULL_CHANNEL_DATA = serialInst.readline().decode('utf-8').strip().split(\",\")\n",
        "            IMU_ID = int(IMU_FULL_CHANNEL_DATA[-1])\n",
        "            IMU_DATA = [float(acc) for acc in IMU_FULL_CHANNEL_DATA[:3]] # ONLY APPENDING ACCELERATION, TO CHANGE WHEN DOING KALMAN FILTERING\n",
        "            IMU_DATA_NORM = IMU_DATA/np.linalg.norm(IMU_DATA)\n",
        "\n",
        "\n",
        "            if IMU_ID == 1:\n",
        "                IMU_DEQUES[0].append(IMU_DATA_NORM)\n",
        "\n",
        "            elif IMU_ID == 2:\n",
        "                IMU_DEQUES[1].append(IMU_DATA_NORM)\n",
        "\n",
        "            elif IMU_ID == 7:\n",
        "                IMU_DEQUES[2].append(IMU_DATA_NORM)\n",
        "\n",
        "            else:\n",
        "                print(f\"Warning: Recieved data from unknown data channel @ {IMU_ID}\")\n",
        "\n",
        "            if all(IMU_DEQUES):\n",
        "                IMU_NORMALISED_MATRIX = [dque[-1] for dque in IMU_DEQUES]\n",
        "                IMU_POSITIONS = np.array(forward_kinematics(IMU_NORMALISED_MATRIX))\n",
        "\n",
        "                ## update stored variables (\"scatter\" + \"line,\") with new positions\n",
        "                ## more efficient than ax.clear()\n",
        "\n",
        "                scatter._offsets3d = (IMU_POSITIONS[:, 0], IMU_POSITIONS[:, 1], IMU_POSITIONS[:, 2]) # plots all x, y, z coordinates: regardless of number of rows in this matrix\n",
        "                line.set_data(IMU_POSITIONS[:, :2].T) # takes in (x,y) values of the points (matplotlib used to only do 2D stuff)\n",
        "                line.set_3d_properties(IMU_POSITIONS[:, 2]) # add the z-coordinate (3D space) on top of this\n",
        "\n",
        "        except (ValueError, IndexError) as e:\n",
        "            print(\"Serial line error: {e}\")\n",
        "            pass\n",
        "\n",
        "        return scatter, line,\n",
        "\n",
        "    # PLOTTING DISPLAY\n",
        "    anim = FuncAnimation(fig, animate, cache_frame_data=False, interval=200, blit=True)\n",
        "\n",
        "    ax.set_proj_type('ortho')\n",
        "    plt.show()\n",
        "\n",
        "except Exception as e:\n",
        "    print(f\"ERROR: {e}\")"
      ],
      "metadata": {
        "id": "z60_I11o208U"
      },
      "id": "z60_I11o208U",
      "execution_count": null,
      "outputs": []
    },
    {
      "cell_type": "code",
      "source": [],
      "metadata": {
        "id": "HHHh56YD25x3"
      },
      "id": "HHHh56YD25x3",
      "execution_count": null,
      "outputs": []
    },
    {
      "cell_type": "markdown",
      "source": [
        "### Challenge 3 & 4: Real-time Curvature Analysis & Feedback\n",
        "\n",
        "**Objective:** To analyze the spline's shape to detect excessive bending and send a feedback signal to the Arduino.\n",
        "\n",
        "-   **Calculating Curvature from Derivatives:**\n",
        "    * **Task:** For each spline object, use `cs.derivative(nu=2)` to get the second derivative functions (`x''(t)`, `y''(t)`, `z''(t)`).\n",
        "    * **Mathematical Challenge:** True curvature ($ \\kappa $) is defined by the formula $ \\kappa(t)=\\frac{\\|\\mathbf{S}'(t) \\times \\mathbf{S}''(t)\\|}{\\|\\mathbf{S}'(t)\\|^3} $. A powerful and effective proxy for this is the **magnitude of the second derivative vector**:\n",
        "        $$ \\text{Curvature Proxy} = \\|\\mathbf{S}''(t)\\| = \\sqrt{(x''(t))^2 + (y''(t))^2 + (z''(t))^2} $$\n",
        "        Your task is to calculate this value at various points along each segment of your spline in real-time.\n",
        "    * **Resource:** Your link on deriving curvature (`mathematics.stackexchange.com`) is excellent for understanding the theory. Focus on implementing the proxy formula first, as it directly relates curvature to the second derivatives you can easily compute.\n",
        "\n",
        "-   **Segment-Specific Thresholding:**\n",
        "    * **Task:** Create a list or dictionary of threshold values, one for each segment of the spine (e.g., `thresholds = [3.5, 4.0, 4.2, 3.8, 3.5]`).\n",
        "    * **Challenge:** In your animation loop, check if the calculated curvature proxy for a specific segment exceeds its corresponding threshold.\n",
        "\n",
        "-   **Arduino Feedback Loop:**\n",
        "    https://www.youtube.com/watch?v=XXjFtYZEQNw\n",
        "    * **Task:** When a threshold is breached, use Python's `serial` library to send a specific character (e.g., `'L'`) back to the Arduino.\n",
        "    * **Challenge:** Modify your Arduino code. It needs to continuously `Serial.read()` to check for incoming data *while* also performing its regular sensor measurements. An `if (Serial.available() > 0)` block will be essential here. When the character `'L'` is received, trigger the onboard LED to flash. This creates the fundamental feedback loop for your haptic motor system later on."
      ],
      "metadata": {
        "id": "Iup4vxGA26P7"
      },
      "id": "Iup4vxGA26P7"
    }
  ],
  "metadata": {
    "language_info": {
      "name": "python"
    },
    "colab": {
      "provenance": [],
      "include_colab_link": true
    },
    "kernelspec": {
      "name": "python3",
      "display_name": "Python 3"
    }
  },
  "nbformat": 4,
  "nbformat_minor": 5
}