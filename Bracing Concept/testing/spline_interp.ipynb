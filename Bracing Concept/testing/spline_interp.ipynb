{
 "cells": [
  {
   "cell_type": "markdown",
   "id": "4572653b",
   "metadata": {},
   "source": [
    "# title\n",
    "below the title is text"
   ]
  },
  {
   "cell_type": "code",
   "execution_count": null,
   "id": "6d95c769",
   "metadata": {},
   "outputs": [],
   "source": [
    "def function(): \n",
    "    return 5 + 3"
   ]
  }
 ],
 "metadata": {
  "language_info": {
   "name": "python"
  }
 },
 "nbformat": 4,
 "nbformat_minor": 5
}
