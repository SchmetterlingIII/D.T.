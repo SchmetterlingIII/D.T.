{
 "cells": [
  {
   "cell_type": "code",
   "execution_count": null,
   "id": "9b4712ac",
   "metadata": {
    "vscode": {
     "languageId": "plaintext"
    }
   },
   "outputs": [],
   "source": [
    "something to "
   ]
  }
 ],
 "metadata": {
  "language_info": {
   "name": "python"
  }
 },
 "nbformat": 4,
 "nbformat_minor": 5
}
