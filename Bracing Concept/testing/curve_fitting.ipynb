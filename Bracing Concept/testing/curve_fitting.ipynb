{
 "cells": [
  {
   "cell_type": "markdown",
   "id": "6f6be4c4",
   "metadata": {},
   "source": [
    "# Curve Fitting\n",
    "Specifically will interpret all data points to fit the data onto what a spine actually looks like, so that the results are more useful. "
   ]
  }
 ],
 "metadata": {
  "language_info": {
   "name": "python"
  }
 },
 "nbformat": 4,
 "nbformat_minor": 5
}
