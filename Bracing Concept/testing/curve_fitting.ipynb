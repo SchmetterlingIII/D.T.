{
  "cells": [
    {
      "cell_type": "markdown",
      "metadata": {
        "id": "view-in-github",
        "colab_type": "text"
      },
      "source": [
        "<a href=\"https://colab.research.google.com/github/SchmetterlingIII/D.T./blob/main/Bracing%20Concept/testing/curve_fitting.ipynb\" target=\"_parent\"><img src=\"https://colab.research.google.com/assets/colab-badge.svg\" alt=\"Open In Colab\"/></a>"
      ]
    },
    {
      "cell_type": "markdown",
      "source": [
        "# Intentions\n",
        "**Prelude:**\n",
        "\n",
        "I know how one can interpolate on splines normally but have no way of interpreting this information to give the feedback to a user that they are slouching.\n",
        "\n",
        "From this initial intuition, I intend to develop my understanding of the spine, numerical methods in approaching that shape, and the demonstration of this happening in real time with the sensors.\n",
        "\n",
        "## Notes\n",
        "### Sensors\n",
        "- IMU noise clean up (Kalman Filtering)\n",
        "- IMU placement\n",
        "- Spine model verification\n",
        "\n",
        "The IMU placement needs to be very specific to certain vertebrae (or at least that region) of the vertebral column. The anchoring points of the vertebrae (e.g. the inflection points of curvature on the spine or areas with a relatively consistent/definable curvature) would be useful for the application of the sensor as, at those points, conditions for the spline equations can be made.\n",
        "\n",
        "The verification of displayed results (and some methodology for this) is quite a difficult result to achieve and **need to work on finding some methodology to test the error of these measurements (and then I could design some way of minimising this cost function)**.\n",
        "\n",
        "**What about the Kalman Filter?**\n",
        "\n",
        "### Interpretation\n",
        "#### Global\n",
        "For the global measurement of the spine (as a way of optimising the flow of code), measuring how much second derivative changes wrt time will indicate whether there is tilting of any degree across the function.\n",
        "\n",
        "The global function will be approximated (quite directly) with the Taylor Series where the code will automatically stop approximating when there is a low mean error across the total function (i.e. the approximation exceeds the bounds the function).\n",
        "\n",
        "The iterative nature of reading the second derivative (wrt time) informs whether I should iterate across each of the spline segments to check for where the deviation (specifically) has occurred. This will be done by checking each of the databases (**stored under collections.deque**) underneath each of these functions.\n",
        "\n",
        "The deviated function would be recognised, and a signal will be sent to the serial (back to the microcontroller) for the haptic motor to be activated.\n",
        "\n",
        "**Need to understand how this haptic motor will be activated next + the more practical sides of this design. And quickly.**\n",
        "\n",
        "\n",
        "#### Local\n",
        "- *How to properly define the parameters for each section of the spine to curve in a manner akin to a human being. Will torsion (mathematically) play a role for the simple version of this to be completed?*\n",
        "\n",
        "- *How the checking of the collections.deque databases will work (stored only across a certain timespan for the D.T. project and can be expanded later) and the checking of the second derivative from that.*\n",
        "\n",
        "\n",
        "## Research\n",
        "- Cobb Angle\n",
        "  - what is it\n",
        "  - how can its mathematical methods be used to help with the modelling of people with spinal curvatures\n",
        "\n",
        "  https://pmc.ncbi.nlm.nih.gov/articles/PMC6399566/#abstract1: This paper explores the use of an automated determination of Cobb angles (w/ X-rays however) using a convolutional neural network (CNN). I would like to do something similar where a matrix map of the users back is determined through the sensors (later on) and can help to be an indication for spinal deformities (scoliosis is quite evident, moreso the development of turtleneck syndrome of end-of-life conditions). Neural nets will help with this aim.\n",
        "\n",
        "- Kalman Filter\n",
        "\n",
        "  https://cdn.ima.org.uk/wp/wp-content/uploads/2024/09/Kalman-Filter-Tutorial-Part-1_Mathematics-Today_2016.pdf\n",
        "\n",
        "  "
      ],
      "metadata": {
        "id": "_9wGmyN-Q1oq"
      },
      "id": "_9wGmyN-Q1oq"
    },
    {
      "cell_type": "markdown",
      "id": "6f6be4c4",
      "metadata": {
        "id": "6f6be4c4"
      },
      "source": [
        "# Curve Fitting\n",
        "Specifically will interpret all data points to fit the data onto what a spine actually looks like, so that the results are more useful."
      ]
    },
    {
      "cell_type": "markdown",
      "source": [
        "# Direct Next Steps:\n",
        "*I am going to need to test this with real sensors now and try to validate my findings. As tests, I can set relatively abitary curves on the points to see how they react in real time as well as:\n",
        "  - Kalman filtering (and finding some ways of improving approximations)\n",
        "  - Tests on the visualisation of this live (and whether to use non-matplotlib files to continue)\n",
        "\n",
        "**What about maths?**\n",
        "\n",
        "*This can be tested with pseudocode to test my inherent understanding of functions and learning function approximations*\n",
        "- Segment the dynamic code and store the changes in the second derivative of the local cubic splines\n",
        "- Produce a dynamic approximation for the global cubic spline\n",
        "\n",
        "\n",
        "- reading in the IMU data (and getting a coherent mix between the data points (of gyroscope data)).\n",
        "- specific pseudocode of the flow of the code (which can be written now)"
      ],
      "metadata": {
        "id": "QDoYZBh9dvF_"
      },
      "id": "QDoYZBh9dvF_"
    }
  ],
  "metadata": {
    "language_info": {
      "name": "python"
    },
    "colab": {
      "provenance": [],
      "include_colab_link": true
    }
  },
  "nbformat": 4,
  "nbformat_minor": 5
}