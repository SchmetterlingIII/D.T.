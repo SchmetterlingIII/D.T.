{
  "cells": [
    {
      "cell_type": "markdown",
      "source": [
        "# Intentions\n",
        "**Prelude:**\n",
        "\n",
        "I know how one can interpolate on splines normally but have no way of interpreting this information to give the feedback to a user that they are slouching.\n",
        "\n",
        "From this initial intuition, I intend to develop my understanding of the spine, numerical methods in approaching that shape, and the demonstration of this happening in real time with the sensors.\n",
        "\n",
        "### Notes\n",
        "#### Sensors\n",
        "The IMU placement needs to be very specific to certain vertebrae (or at least that region) of the vertebral column. The anchoring points of the vertebrae (e.g. the inflection points of curvature on the spine or areas with a relatively consistent/definable curvature) would be useful for the application of the sensor as, at those points, conditions for the spline equations can be made.\n",
        "\n",
        "The verification of displayed results (and some methodology for this) is quite a difficult result to achieve and **need to work on finding some methodology to test the error of these measurements (and then I could design some way of minimising this cost function)**.\n",
        "\n",
        "#### Interpretation\n",
        "##### Global\n",
        "For the global measurement of the spine (as a way of optimising the flow of code), measuring how much second derivative changes wrt time will indicate whether there is tilting of any degree across the function.\n",
        "\n",
        "The global function will be approximated (quite directly) with the Taylor Series\n",
        "##### Local\n",
        "\n",
        "### Research\n",
        "- Cobb Angle\n",
        "  - what is it\n",
        "  - how can its mathematical methods be used to help with the modelling of people with spinal curvatures\n",
        "\n",
        "  https://pmc.ncbi.nlm.nih.gov/articles/PMC6399566/#abstract1: This paper explores the use of an automated determination of Cobb angles (w/ X-rays however) using a convolutional neural network (CNN). I would like to do something similar where a matrix map of the users back is determined through the sensors (later on) and can help to be an indication for spinal deformities (scoliosis is quite evident, moreso the development of turtleneck syndrome of end-of-life conditions). Neural nets will help with this aim.\n",
        "\n",
        "  "
      ],
      "metadata": {
        "id": "_9wGmyN-Q1oq"
      },
      "id": "_9wGmyN-Q1oq"
    },
    {
      "cell_type": "markdown",
      "id": "6f6be4c4",
      "metadata": {
        "id": "6f6be4c4"
      },
      "source": [
        "# Curve Fitting\n",
        "Specifically will interpret all data points to fit the data onto what a spine actually looks like, so that the results are more useful."
      ]
    }
  ],
  "metadata": {
    "language_info": {
      "name": "python"
    },
    "colab": {
      "provenance": []
    }
  },
  "nbformat": 4,
  "nbformat_minor": 5
}