{
  "cells": [
    {
      "cell_type": "markdown",
      "metadata": {
        "id": "view-in-github",
        "colab_type": "text"
      },
      "source": [
        "<a href=\"https://colab.research.google.com/github/SchmetterlingIII/D.T./blob/main/Bracing%20Concept/testing/curve_fitting.ipynb\" target=\"_parent\"><img src=\"https://colab.research.google.com/assets/colab-badge.svg\" alt=\"Open In Colab\"/></a>"
      ]
    },
    {
      "cell_type": "markdown",
      "id": "_9wGmyN-Q1oq",
      "metadata": {
        "id": "_9wGmyN-Q1oq"
      },
      "source": [
        "# Intentions\n",
        "**Prelude:**\n",
        "I know how one can interpolate on splines normally but have no way of interpreting this information to give the feedback to a user that they are slouching.\n",
        "\n",
        "From this initial intuition, I intend to develop my understanding of the spine, numerical methods in approaching that shape, and the demonstration of this happening in real time with the sensors.\n",
        "\n",
        "\n",
        "## Notes\n",
        "### Sensors\n",
        "- IMU noise clean up (Kalman Filtering*)\n",
        "- IMU placement\n",
        "- Spine model verification\n",
        "- Planning basic layout of haptic motor set up\n",
        "\n",
        "The IMU placement needs to be very specific to certain vertebrae (or at least that region) of the vertebral column. The anchoring points of the vertebrae (e.g. the inflection points of curvature on the spine or areas with a relatively consistent/definable curvature) would be useful for the application of the sensor as, at those points, conditions for the spline equations can be made.\n",
        "\n",
        "The verification of displayed results (and some methodology for this) is quite a difficult result to achieve and **need to work on finding some methodology to test the error of these measurements (and then I could design some way of minimising this cost function)**.\n",
        "\n",
        "**Initially just visualise the noise and experiment personally on methods of denoising (and get an intuition for the Kalman Filter when it is actually applied).*\n",
        "\n",
        "### Local Interpretation\n",
        "*Can there be a global function? I feel like I would just have to use the array of changing local 2nd derivatives and say that this is the \"global\" function since it is much more efficient than trying to learn some way of applying this when more time can be spent on the human-centered side of it and I want to spend less time on the technical stuff.*\n",
        "\n",
        "- Tutorials for collections.deque:\n",
        "  https://youtu.be/cVqRJIAr7Ls?si=Ridx5prT2bkguSvG\n",
        "  https://youtu.be/m3JgSV1Obn8?si=9hMpTtcbi3aWGLLy\n",
        "  *Intermediate Python Tutorials* by *Tech with Tim*\n",
        "\n",
        "- *How to properly define the parameters for each section of the spine to curve in a manner akin to a human being. Will torsion (mathematically) play a role for the simple version of this to be completed?*\n",
        "\n",
        "- *How the checking of the collections.deque databases will work (stored only across a certain timespan for the D.T. project and can be expanded later) and the checking of the second derivative from that.*\n",
        "\n",
        "For the global measurement of the spine (as a way of optimising the flow of code), measuring how much second derivative changes wrt time will indicate whether there is tilting of any degree across the function.\n",
        "\n",
        "The iterative nature of reading the second derivative (wrt time) informs whether I should iterate across each of the spline segments to check for where the deviation (specifically) has occurred. This will be done by checking each of the databases (**stored under collections.deque**) underneath each of these functions.\n",
        "\n",
        "The deviated function would be recognised, and a signal will be sent to the serial (back to the microcontroller) for the haptic motor to be activated.\n",
        "\n",
        "**Need to understand how this haptic motor will be activated next + the more practical sides of this design. And quickly.**\n",
        "  "
      ]
    },
    {
      "cell_type": "code",
      "execution_count": null,
      "id": "f6303ddc",
      "metadata": {
        "id": "f6303ddc"
      },
      "outputs": [],
      "source": [
        "\"\"\"\n",
        "PSEUDOCODE:\n",
        "**Send the emails sooner rather than later and get this breezed through now since the designing aspect is the more difficult part.**\n",
        "1-4 MUST BE DONE BEFORE SCHOOL. NEED TO WORK FASTER!!\n",
        "**start with 2/3 IMUs and then progress from there**\n",
        "\n",
        "1. Extracting vectors from serial data and plotting them\n",
        "2. Seeing the produced splines and (only by hand), understanding the shape they form\n",
        "    a. if switching to b-splines at this point, having a good intuition for how parameters can change the shape of the curve\n",
        "    b. potentially de-noising and spending time to understand that (but minor since big picture is the design of this)\n",
        "3. Using the functions of each of the sections, use sympy to get the second derivative and place that into a dynamic collections.deque (having learnt how to use it)\n",
        "    a. then, I can set timers that e.g. if f''(x) > 0 for 10 seconds, ax.plot(..., color='r', ...) as some input output\n",
        "    b. progress to changing the LEDs on the Arduino to blink at a distinct frequency (to reinforce this communication)\n",
        "4. At this point, I will spend much more time on the aesthetics and making sure that this can be a sold device\n",
        "    a. Design is crucial (although quite simple, getting a working prototype is harder so get the theory done well)\n",
        "    b. research into the more complex stuff (and write-ups and methodologies on how to verify this concept in the field)\n",
        "    c. Emailling orthopaedic surgeons here (since now I have proper data and github repositories, do this through LinkedIn if need be) for further help on this\n",
        "\"\"\""
      ]
    },
    {
      "cell_type": "code",
      "source": [
        "import sympy as sym\n",
        "import numpy as np\n"
      ],
      "metadata": {
        "id": "67aU7XFZtfNm"
      },
      "id": "67aU7XFZtfNm",
      "execution_count": 1,
      "outputs": []
    },
    {
      "cell_type": "code",
      "source": [
        "# create random functions that iterate between two points\n",
        "x = np.random.uniform(-5, 5, 10)\n",
        "y = np.random.uniform(-5, 5, 10)\n",
        "\n",
        "print(x,y)"
      ],
      "metadata": {
        "id": "Pgl2T-nFtirS",
        "outputId": "f4d098f9-5d8a-4ddf-86dd-c28775223001",
        "colab": {
          "base_uri": "https://localhost:8080/"
        }
      },
      "id": "Pgl2T-nFtirS",
      "execution_count": 2,
      "outputs": [
        {
          "output_type": "stream",
          "name": "stdout",
          "text": [
            "[ 4.4961151  -3.22791711  0.32035351 -1.56858572 -2.98389836  0.16355473\n",
            "  0.47935922 -1.75444368  1.78177548 -0.32979534] [-1.29585155  1.52988335 -0.41158369  3.75330611 -4.28858183 -2.85626441\n",
            "  1.76239363  1.24877303 -3.389083   -0.31508761]\n"
          ]
        }
      ]
    },
    {
      "cell_type": "markdown",
      "id": "4a5c2bf4",
      "metadata": {
        "id": "4a5c2bf4"
      },
      "source": []
    },
    {
      "cell_type": "markdown",
      "id": "74c2d953",
      "metadata": {
        "id": "74c2d953"
      },
      "source": [
        "## Research\n",
        "*This is very secondary stuff to the work that I intend to do. My focus needs to be defined but it is not on spinal deformities yet*.\n",
        "\n",
        "- Cobb Angle\n",
        "  - what is it\n",
        "  - how can its mathematical methods be used to help with the modelling of people with spinal curvatures\n",
        "\n",
        "  https://pmc.ncbi.nlm.nih.gov/articles/PMC6399566/#abstract1: This paper explores the use of an automated determination of Cobb angles (w/ X-rays however) using a convolutional neural network (CNN). I would like to do something similar where a matrix map of the users back is determined through the sensors (later on) and can help to be an indication for spinal deformities (scoliosis is quite evident, moreso the development of turtleneck syndrome of end-of-life conditions). Neural nets will help with this aim.\n",
        "\n",
        "- Kalman Filter\n",
        "\n",
        "  https://cdn.ima.org.uk/wp/wp-content/uploads/2024/09/Kalman-Filter-Tutorial-Part-1_Mathematics-Today_2016.pdf\n"
      ]
    },
    {
      "cell_type": "markdown",
      "id": "6f6be4c4",
      "metadata": {
        "id": "6f6be4c4"
      },
      "source": [
        "# Curve Fitting\n",
        "Specifically will interpret all data points to fit the data onto what a spine actually looks like, so that the results are more useful."
      ]
    },
    {
      "cell_type": "markdown",
      "id": "QDoYZBh9dvF_",
      "metadata": {
        "id": "QDoYZBh9dvF_"
      },
      "source": [
        "# Direct Next Steps:\n",
        "*I am going to need to test this with real sensors now and try to validate my findings. As tests, I can set relatively abitary curves on the points to see how they react in real time as well as:\n",
        "  - Kalman filtering (and finding some ways of improving approximations)\n",
        "  - Tests on the visualisation of this live (and whether to use non-matplotlib files to continue)\n",
        "\n",
        "**What about maths?**\n",
        "\n",
        "*This can be tested with pseudocode to test my inherent understanding of functions and learning function approximations*\n",
        "- Segment the dynamic code and store the changes in the second derivative of the local cubic splines\n",
        "- Produce a dynamic approximation for the global cubic spline\n",
        "\n",
        "\n",
        "- reading in the IMU data (and getting a coherent mix between the data points (of gyroscope data)).\n",
        "- specific pseudocode of the flow of the code (which can be written now)"
      ]
    }
  ],
  "metadata": {
    "colab": {
      "provenance": [],
      "include_colab_link": true
    },
    "language_info": {
      "name": "python"
    },
    "kernelspec": {
      "name": "python3",
      "display_name": "Python 3"
    }
  },
  "nbformat": 4,
  "nbformat_minor": 5
}