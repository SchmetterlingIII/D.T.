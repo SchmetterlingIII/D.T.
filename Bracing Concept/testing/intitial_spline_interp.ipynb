{
 "cells": [
  {
   "cell_type": "markdown",
   "id": "95e1807d",
   "metadata": {},
   "source": [
    "# 2D Spline Interpretation\n",
    "Basic task: interpretating the curvature of a 2D function to see how this can be visualised. As a basic introduction, only the second derviative was used to understand visually what is means and its significance. \n",
    "\n",
    "From this, however, I developed my understanding of the function and moved to a measure that was dependent on the relative curvature of the function and researched into mathematical curvature. "
   ]
  },
  {
   "cell_type": "code",
   "execution_count": null,
   "id": "0973f7b1",
   "metadata": {},
   "outputs": [],
   "source": [
    "import ipywidgets as ipy\n",
    "import numpy as np\n",
    "from scipy.interpolate import CubicSpline\n",
    "import matplotlib.pyplot as plt\n",
    "from IPython.display import display, Math"
   ]
  },
  {
   "cell_type": "code",
   "execution_count": null,
   "id": "bebed2f0",
   "metadata": {},
   "outputs": [],
   "source": [
    "def spline_function(x=1):\n",
    "    fig, ax = plt.subplots(figsize=(5,5))\n",
    "\n",
    "    x_list = [-10, 0, x]\n",
    "    eps = 0.01 # small value so that points aren't stacked on top of each other\n",
    "\n",
    "    # strictly increasing list\n",
    "    inc_x_list = []\n",
    "    for i, val in enumerate(x_list):\n",
    "        if i == 0:\n",
    "            inc_x_list.append(val)\n",
    "        else:\n",
    "            # make sure each value larger than previous\n",
    "            inc_x_list.append(max(val, inc_x_list[-1] + eps))\n",
    "\n",
    "    xs = np.array(inc_x_list)\n",
    "    ys = np.array([0, 50, 100])\n",
    "\n",
    "    # I cannot interpret the derivatives of clamped cubic splines\n",
    "    cs = CubicSpline(xs, ys, bc_type='natural')\n",
    "    coeffs = []\n",
    "    for i in range(2):\n",
    "        for j in range(4):\n",
    "            coeffs.append(cs.c[j,i])\n",
    "    # coeffs 0 - 3 are for first segment; 4-7 for second\n",
    "    display(Math(f\"f(x) = {coeffs[0]:.5f}(x + {-1 * xs[0]})^3\"))\n",
    "    print(coeffs)\n",
    "    print(x_list)\n",
    "\n",
    "    x_plot = np.linspace(xs[0], xs[-1], 100)\n",
    "\n",
    "    # plots of f(x), f'(x) and f''(x)\n",
    "    ax.plot(x_plot, cs(x_plot), alpha=0.8, label='f(x)')\n",
    "    ax.plot(x_plot, cs(x_plot, 1), label = \"f'(x)\")\n",
    "    ax.plot(x_plot, cs(x_plot, 2), label = 'f''(x)')\n",
    "    ax.scatter(xs, ys, color='k')\n",
    "\n",
    "    \"\"\"\n",
    "    if the gradient of the second derivative is greater than three\n",
    "    i.e. if the third derivative is greater than three\n",
    "    \"\"\"\n",
    "    second_deriv_linear_coeff = coeffs[0] * 6 # gradient of second derivative of first segment\n",
    "    if second_deriv_linear_coeff > 3:\n",
    "        ax.clear()\n",
    "        # plots of f(x), f'(x) and f''(x)\n",
    "        ax.plot(x_plot, cs(x_plot), color='k', alpha=1, label='f(x)')\n",
    "        ax.plot(x_plot, cs(x_plot, 1), label = \"f'(x)\")\n",
    "        ax.plot(x_plot, cs(x_plot, 2), label = 'f''(x)')\n",
    "        ax.scatter(xs, ys, color='k')\n",
    "        print(\"Threshold has been exceeded.\\nPlot not being displayed.\")\n",
    "\n",
    "\n",
    "    # setup\n",
    "    ax.grid(alpha=0.25)\n",
    "    ax.set_xlim(-10.5, 10.5)\n",
    "    ax.set_ylim(-5, 105)\n",
    "\n",
    "    plt.show()"
   ]
  },
  {
   "cell_type": "code",
   "execution_count": null,
   "id": "64ea5f30",
   "metadata": {},
   "outputs": [],
   "source": [
    "ipy.interact(spline_function, x=(0, 10, 0.05))"
   ]
  }
 ],
 "metadata": {
  "language_info": {
   "name": "python"
  }
 },
 "nbformat": 4,
 "nbformat_minor": 5
}
