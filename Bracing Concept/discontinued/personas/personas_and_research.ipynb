{
 "cells": [
  {
   "cell_type": "markdown",
   "id": "6125d9ca",
   "metadata": {},
   "source": [
    "# Personas (First Draft)\n",
    "*Need to copy this into inDesign after writing this. It is just much better to write this in GitHub.*\n",
    "\n",
    "*Improve these since they are dependent on my opinions.*\n",
    "\n",
    "*Potential prompt: critique these and ask leading questions as if you were my mentor (an Imperial College lecturer and researcher that is supervising this project and required the development of a persona for marketing my idea)*\n",
    "\n",
    "### I: Clinical Perspective\n",
    "Woman, > 50, lives alone. \n",
    "\n",
    "Elderly outpatient (only recently having finished an operation) experiencing back pain and is increasingly demotivated by the use of prescribed medications to target her new-found pain. \n",
    "Looking at ways of counteracting the pain through natural methods, she is unaware of why it transpires and her current attempts do not seem to do anything and target things generally - she wants to have a greater understanding of where on her back there is pain and ways of strengthening it. Given specific understanding, she will do exercises and yoga for it. \n",
    "Her doctor recommends this device (*the aesthetics of the final project needs to be more universal since my current design is a specific type of fashion statement*) and asks her to share the data with him.\n",
    "She has the vibration setting off since it makes her uncomfortable and would just like the feedback from it. She can see on her phone (through the notification popping up) and is made aware of it like that. She finds that safer. \n",
    "Her doctor helps her to align the sensors and all works well (*this needs to be such that two people aren't needed for the calibration of this product. Not sure how this can be done yet; to be the next phase of this research - probably soft robotics and sensors embedded on the first shirt layer that reads the curve of the spine and \"finds\" where the spine is. Which seems much too complicated for me right now.*)\n",
    "\n",
    "\n",
    "### II: Commercial Perspective\n",
    "Male, ~23, office life. \n",
    "\n",
    "Recent graduate, previously part of sporting teams, now sits around all days and is demotivated from this as it is encouraged to sit and only focus on work. He constantly experiences subtle neck and lower back pain and fears it will progress onto something else, but doesn't have enough data to want to present this to the NHS - especially given how long it takes to get an appointment. \n",
    "He has no real idea what could be causing it and struggles to be constantly aware of his poor posture and chronic habits which he fears will accumulate to something worse. \n",
    "Using the device, he increases the awareness of where he slouches and finds that during his lunch break is when it is the worst as he is just looking down on his phone and slouching forwards."
   ]
  },
  {
   "cell_type": "markdown",
   "id": "da6f83c6",
   "metadata": {},
   "source": [
    "# Personas + Research Plan (Second Draft)\n",
    "*How to conduct market research?*\n",
    "*Explore the underlying behaviours of specific demographics (this links to systems dynamics, but am unsure how I am meant to do it).*"
   ]
  }
 ],
 "metadata": {
  "language_info": {
   "name": "python"
  }
 },
 "nbformat": 4,
 "nbformat_minor": 5
}
