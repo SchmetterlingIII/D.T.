{
 "cells": [
  {
   "cell_type": "markdown",
   "id": "13793e3a",
   "metadata": {},
   "source": [
    "# Material Science\n",
    "I have realised that I can write Ashby Plots in Python and will help in being a *professional* in one programming language (before learning other ones).\n",
    "\n",
    "### Materials To Consider\n",
    "- **Foam**: provides the comfort support for the project\n",
    "- **Plastic & Magnetic Sheet**: needs to be strong enough to hold the sensors whilst also flexible enough to accurately read off the spine's curvature with high precision\n",
    "- **Fabrics**: should be breathable and lightweight for the user to feel comfortable. Should help in the distribution of the weight of the components (*how?*)\n",
    "\n",
    "### Sites To Use + Inspo\n",
    "##### For Sourcing\n",
    "https://next-gen.materialsproject.org/materials\n",
    "https://matweb.com/search/MaterialGroupSearch.aspx\n",
    "\n",
    "##### For Understanding\n",
    "https://youtu.be/9RQkvcsRzbo?si=FJ9k4rh7C19ZSW_Y\n",
    "https://youtu.be/U_Jv1gJondM?si=tHJjoYAaRXRvabSs\n",
    "\n",
    "##### Inspiration\n",
    "https://github.com/HyGear/ashby-plot # an Ashby Plot made + interpreted in Python; can apply understanding of materials topic when I am solving this issue."
   ]
  }
 ],
 "metadata": {
  "language_info": {
   "name": "python"
  }
 },
 "nbformat": 4,
 "nbformat_minor": 5
}
