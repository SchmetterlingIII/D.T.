{
 "cells": [
  {
   "cell_type": "markdown",
   "id": "7a605173",
   "metadata": {},
   "source": [
    "Tutorial on the plotting of 3D vectors:\n",
    "https://www.youtube.com/watch?v=c8Xb7krH2_w"
   ]
  },
  {
   "cell_type": "code",
   "execution_count": null,
   "id": "6882ee7c",
   "metadata": {
    "vscode": {
     "languageId": "plaintext"
    }
   },
   "outputs": [],
   "source": [
    "# tutorial on arrow vector\n",
    "import matplotlib.pyplot as plt\n",
    "\n",
    "v = [0,5,4]\n",
    "q = [7,-8,10]\n",
    "\n",
    "fig = plt.figure()\n",
    "ax = plt.axes(projection = '3d')\n",
    "ax.set_xlim([-10, 10])\n",
    "ax.set_ylim([-10,10])\n",
    "ax.set_zlim([-10,10])\n",
    "\n",
    "start = [0,0,0]\n",
    "for i in range(15):\n",
    "    u = [i,(i+1),(i-1)]\n",
    "    ax.quiver(start[0], start[1], start[2], u[0], u[1], u[2])\n",
    "    plt.pause(1)\n",
    "    plt.cla()\n",
    "    \n",
    "    # Reset the limits after clearing the axes\n",
    "    ax.set_xlim([-10, 10])\n",
    "    ax.set_ylim([-10, 10])\n",
    "    ax.set_zlim([-10, 10])\n",
    "\n",
    "ax.view_init(10, 10, 10)\n",
    "plt.show()"
   ]
  },
  {
   "cell_type": "markdown",
   "id": "abbd4cbb",
   "metadata": {},
   "source": [
    "I intend to use this foundational knowledge for the display of the sensor online (using a vector arrow to demonstrate its moving position)"
   ]
  }
 ],
 "metadata": {
  "language_info": {
   "name": "python"
  }
 },
 "nbformat": 4,
 "nbformat_minor": 5
}
