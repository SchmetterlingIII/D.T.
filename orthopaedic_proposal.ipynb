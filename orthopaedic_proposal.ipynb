{
 "cells": [
  {
   "cell_type": "markdown",
   "id": "33ed8a18",
   "metadata": {},
   "source": [
    "### Components of Proposal"
   ]
  },
  {
   "cell_type": "code",
   "execution_count": null,
   "id": "842394f2",
   "metadata": {
    "vscode": {
     "languageId": "plaintext"
    }
   },
   "outputs": [],
   "source": [
    "- What does the spine look like generally, and what is true for all spines for such a model to be produced\n",
    "- What is the nature of \"normal\" spines and how can/has this been used with existing methods to have less intrusive (but more importantly, more frequent) ways of modelling the spine\n"
   ]
  },
  {
   "cell_type": "markdown",
   "id": "4d60a0c8",
   "metadata": {},
   "source": [
    "### Approach of Proposal\n",
    "\n",
    "Above is a pretty decent template that I may use.\n",
    "\n",
    "#### First Email\n",
    "Length: ~ two paragraphs\n",
    "- have a document of the progress that I have made so far (no intentions like before)\n",
    "\n",
    "- Introduction of the project and what I hope to achieve from it\n",
    "- Stating that I am an outpatient of his clinic (in the sense that we kinda know each other)\n",
    "- State interest in doing research at and after uni (and what course I am looking at)\n",
    "- Open myself up to shadowing in other areas where I can apply my own understanding of stuff to a relatively new field, and see whether I can design things in this system way.\n",
    "\n",
    "**N.B**\n",
    "    If I am including the draft, it needs to be a very rough overview and have the sketches from it be perfect.\n",
    "\n",
    "\n",
    "#### Draft \n",
    "Notes: *This is a pretty specific thing to be making and thus, this narrow lens may detract from the ability for this to actually be chosen. How can I maximise the chances of a researcher being interested in reading this and going fourth with this?*\n",
    "\n",
    "*Maybe talk to Ms VH.*\n",
    "\n",
    "{Parse this through Claude for a sanity check, but not detracting from my own writing style}\n",
    "\n",
    "Dear Dr. Leong, \n",
    "\n",
    "{{Introduction}}: I am an outpatient currently with relatively mild scoliosis and, given my current interests in bio- and design engineering, have been researching and designing a device that can correct posture.  \n",
    "Designing a posture correction device that makes users aware when they are slouching by vibrating. This is done through an array of inertial measurement units (IMUs) that record the local acceleration and angular velocities (through accelermoeters and gyrocsopies) in order to produce a piecewise function of the data points - with the intention of having this develop into a multi-body spine model. \n",
    "\n",
    "Having completed a basic sensor interpretation and forward kinematics test, I am moving onto a cubic spline interpolation - where I will use this function approximator to produce the model. \n",
    "\n",
    "However, I wouldn't understand how I can get this to accurately model out the shape of the spine given a semi-random distribution of sensors. Further, I don't understand how this can be abstracted to apply for spinal curvatures (my initial temptation), even if I am to surpass this initial hurdle. \n",
    "\n",
    "Thus, I am open to a conversation on this approach: are you free for a call, for work experience or to be passed onto areas where research is actually taking place to understand this more detailedly. \n",
    "\n",
    "Kind regards, \n",
    "\n",
    "Reuben Okotie"
   ]
  }
 ],
 "metadata": {
  "language_info": {
   "name": "python"
  }
 },
 "nbformat": 4,
 "nbformat_minor": 5
}
