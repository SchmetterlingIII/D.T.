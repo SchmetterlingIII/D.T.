{
 "cells": [
  {
   "cell_type": "markdown",
   "id": "33ed8a18",
   "metadata": {},
   "source": [
    "cod and thst\n"
   ]
  },
  {
   "cell_type": "code",
   "execution_count": null,
   "id": "842394f2",
   "metadata": {
    "vscode": {
     "languageId": "plaintext"
    }
   },
   "outputs": [],
   "source": [
    "more stuf"
   ]
  },
  {
   "cell_type": "markdown",
   "id": "4d60a0c8",
   "metadata": {},
   "source": [
    "fdkj;as\n"
   ]
  }
 ],
 "metadata": {
  "language_info": {
   "name": "python"
  }
 },
 "nbformat": 4,
 "nbformat_minor": 5
}
