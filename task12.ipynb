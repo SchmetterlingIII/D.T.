{
  "cells": [
    {
      "cell_type": "markdown",
      "id": "5be7f7f0",
      "metadata": {
        "id": "5be7f7f0"
      },
      "source": [
        "# Task 12\n",
        "Create a dynamic model of the path of a beam of white light through a triangular prism.\n",
        "![image.png](attachment:image.png)\n",
        "![image-2.png](attachment:image-2.png)"
      ]
    },
    {
      "cell_type": "markdown",
      "id": "cb5e3c05",
      "metadata": {
        "id": "cb5e3c05"
      },
      "source": [
        "## Intentions\n",
        "1. Create a table of all the results that I want:\n",
        "    | Incident Angle (alpha) | Refracted Angle (beta) | Incident (inside of glass) (delta) | Emergent Angle (rho)\n",
        "    Very simple rules have been used for this\n",
        "2. From these results, see how I could plot a triangle within python for this to be a dynamic working thing, likely using a lot of linear functions to display this dynamically (FuncAnimation for example)\n",
        "3. Iterate and improve this to make look good (and try to fill in the region between the linear functions of the triangle with some colour to differentiate it all)"
      ]
    },
    {
      "cell_type": "code",
      "execution_count": 8,
      "id": "f9ddc315",
      "metadata": {
        "id": "f9ddc315",
        "outputId": "e9a82503-4bb0-40bf-8e6a-4ca73b22f051",
        "colab": {
          "base_uri": "https://localhost:8080/"
        }
      },
      "outputs": [
        {
          "output_type": "stream",
          "name": "stdout",
          "text": [
            "All angles are in radians:\n",
            "   Incident Angle  Refracted Angle  Internal Incident Angle  \\\n",
            "0        0.000000         0.000000                 0.785398   \n",
            "1        0.174533         0.114720                 0.670679   \n",
            "2        0.349066         0.227413                 0.557985   \n",
            "3        0.523599         0.335878                 0.449521   \n",
            "4        0.698132         0.437551                 0.347847   \n",
            "5        0.872665         0.529351                 0.256047   \n",
            "6        1.047198         0.607578                 0.177821   \n",
            "7        1.221730         0.668031                 0.117367   \n",
            "8        1.396263         0.706507                 0.078891   \n",
            "9        1.570796         0.719749                 0.065649   \n",
            "\n",
            "   Emergent Ray Angle  \n",
            "0                 NaN  \n",
            "1            1.231059  \n",
            "2            0.932677  \n",
            "3            0.719738  \n",
            "4            0.543467  \n",
            "5            0.394334  \n",
            "6            0.271664  \n",
            "7            0.178585  \n",
            "8            0.119840  \n",
            "9            0.099684  \n"
          ]
        },
        {
          "output_type": "stream",
          "name": "stderr",
          "text": [
            "/tmp/ipython-input-8-3277309554.py:15: RuntimeWarning: invalid value encountered in arcsin\n",
            "  theta_4 = np.arcsin((n_glass/n_air) * np.sin(theta_3))\n"
          ]
        }
      ],
      "source": [
        "## modules\n",
        "import pandas as pd\n",
        "import numpy as np\n",
        "\n",
        "## constants\n",
        "n_air = 1\n",
        "n_glass = 1.517 # refractive index of crown glass\n",
        "                # although should use result from earlier task for this and input that incrementally\n",
        "alpha = 45 # (degrees)\n",
        "\n",
        "## equations\n",
        "theta_1 = np.radians(np.linspace(0, 90, 10)) # incident angle\n",
        "theta_2 = np.arcsin((n_air/n_glass)*np.sin(theta_1)) # refracted angle\n",
        "theta_3 = np.radians(alpha) - theta_2 # internal incident angle\n",
        "theta_4 = np.arcsin((n_glass/n_air) * np.sin(theta_3))\n",
        "\n",
        "\n",
        "## table of results\n",
        "df = pd.DataFrame({\n",
        "    'Incident Angle': theta_1,\n",
        "    'Refracted Angle': theta_2,\n",
        "    'Internal Incident Angle': theta_3,\n",
        "    'Emergent Ray Angle': theta_4\n",
        "})\n",
        "\n",
        "## print\n",
        "print(\"All angles are in radians:\")\n",
        "print(df)"
      ]
    }
  ],
  "metadata": {
    "kernelspec": {
      "display_name": "Python 3 (ipykernel)",
      "language": "python",
      "name": "python3"
    },
    "language_info": {
      "codemirror_mode": {
        "name": "ipython",
        "version": 3
      },
      "file_extension": ".py",
      "mimetype": "text/x-python",
      "name": "python",
      "nbconvert_exporter": "python",
      "pygments_lexer": "ipython3",
      "version": "3.12.1"
    },
    "colab": {
      "provenance": []
    }
  },
  "nbformat": 4,
  "nbformat_minor": 5
}